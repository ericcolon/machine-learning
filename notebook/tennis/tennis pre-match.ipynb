{
 "cells": [
  {
   "cell_type": "markdown",
   "metadata": {},
   "source": [
    "# Tennis pre-match prediction\n",
    "\n",
    "## Test with a first dataset generate by a postegresql database and 3 tennis statistiques sources"
   ]
  },
  {
   "cell_type": "code",
   "execution_count": 287,
   "metadata": {},
   "outputs": [],
   "source": [
    "# To support both python 2 and python 3\n",
    "from __future__ import division, print_function, unicode_literals\n",
    "\n",
    "# Common imports\n",
    "import numpy as np\n",
    "import os\n",
    "\n",
    "# to make this notebook's output stable across runs\n",
    "np.random.seed(42)\n",
    "\n",
    "# To plot pretty figures\n",
    "%matplotlib inline\n",
    "import matplotlib\n",
    "import matplotlib.pyplot as plt\n",
    "plt.rcParams['axes.labelsize'] = 14\n",
    "plt.rcParams['xtick.labelsize'] = 12\n",
    "plt.rcParams['ytick.labelsize'] = 12\n",
    "\n",
    "# Where to save the figures\n",
    "PROJECT_ROOT_DIR = \".\"\n",
    "\n",
    "def save_fig(fig_id, tight_layout=True):\n",
    "    path = os.path.join(PROJECT_ROOT_DIR, \"images\", fig_id + \".png\")\n",
    "    print(\"Saving figure\", fig_id)\n",
    "    if tight_layout:\n",
    "        plt.tight_layout()\n",
    "    plt.savefig(path, format='png', dpi=300)"
   ]
  },
  {
   "cell_type": "markdown",
   "metadata": {},
   "source": [
    "### get data"
   ]
  },
  {
   "cell_type": "code",
   "execution_count": 288,
   "metadata": {},
   "outputs": [],
   "source": [
    "import pandas as pd\n",
    "\n",
    "PATH = \"dataset\"\n",
    "NAME = \"dataset_train_final.csv\"\n",
    "PRED = \"dataset_pred_final.csv\"\n",
    "\n",
    "def load_dataset(path=PATH, name=NAME):\n",
    "    csv_path = os.path.join(path, name)\n",
    "    return pd.read_csv(csv_path)\n",
    "\n",
    "def load_predictset(path=PATH, name=PRED):\n",
    "    csv_path = os.path.join(path, name)\n",
    "    return pd.read_csv(csv_path)"
   ]
  },
  {
   "cell_type": "code",
   "execution_count": 289,
   "metadata": {},
   "outputs": [
    {
     "data": {
      "text/html": [
       "<div>\n",
       "<style scoped>\n",
       "    .dataframe tbody tr th:only-of-type {\n",
       "        vertical-align: middle;\n",
       "    }\n",
       "\n",
       "    .dataframe tbody tr th {\n",
       "        vertical-align: top;\n",
       "    }\n",
       "\n",
       "    .dataframe thead th {\n",
       "        text-align: right;\n",
       "    }\n",
       "</style>\n",
       "<table border=\"1\" class=\"dataframe\">\n",
       "  <thead>\n",
       "    <tr style=\"text-align: right;\">\n",
       "      <th></th>\n",
       "      <th>id</th>\n",
       "      <th>url_match_flash</th>\n",
       "      <th>url_match_atp</th>\n",
       "      <th>url_tour</th>\n",
       "      <th>name_tour_flash</th>\n",
       "      <th>name_tour_atp</th>\n",
       "      <th>name_tour_csv</th>\n",
       "      <th>round_flash</th>\n",
       "      <th>round_csv</th>\n",
       "      <th>qualif</th>\n",
       "      <th>...</th>\n",
       "      <th>return_rating_20years</th>\n",
       "      <th>first_serve_return_point_won_20years</th>\n",
       "      <th>bp_converted_20years</th>\n",
       "      <th>return_games_played_20years</th>\n",
       "      <th>service_point_won_20years</th>\n",
       "      <th>return_point_won_20years</th>\n",
       "      <th>total_point_won_20years</th>\n",
       "      <th>winner_loser_match_win</th>\n",
       "      <th>h2h</th>\n",
       "      <th>minutes_loser_winner</th>\n",
       "    </tr>\n",
       "  </thead>\n",
       "  <tbody>\n",
       "    <tr>\n",
       "      <th>0</th>\n",
       "      <td>40040</td>\n",
       "      <td>https://www.flashscore.com/match/hM5Ou2TC</td>\n",
       "      <td>/en/scores/archive/nottingham/741/2016/results</td>\n",
       "      <td>https://www.flashscore.com/tennis/atp-singles/...</td>\n",
       "      <td>Nottingham</td>\n",
       "      <td>Nottingham</td>\n",
       "      <td>Nottingham</td>\n",
       "      <td>1/8-finals\\n</td>\n",
       "      <td>R16</td>\n",
       "      <td>False</td>\n",
       "      <td>...</td>\n",
       "      <td>-14.964524</td>\n",
       "      <td>-2.858360</td>\n",
       "      <td>-2.022296</td>\n",
       "      <td>0.454710</td>\n",
       "      <td>3.177687</td>\n",
       "      <td>-3.629932</td>\n",
       "      <td>-0.124964</td>\n",
       "      <td>2</td>\n",
       "      <td>-0.333333</td>\n",
       "      <td>-0.104860</td>\n",
       "    </tr>\n",
       "    <tr>\n",
       "      <th>1</th>\n",
       "      <td>40195</td>\n",
       "      <td>https://www.flashscore.com/match/C87VUjyI</td>\n",
       "      <td>/en/scores/archive/nottingham/741/2007/results</td>\n",
       "      <td>https://www.flashscore.com/tennis/atp-singles/...</td>\n",
       "      <td>Nottingham</td>\n",
       "      <td>Nottingham</td>\n",
       "      <td>Nottingham</td>\n",
       "      <td>Quarter-finals\\n</td>\n",
       "      <td>QF</td>\n",
       "      <td>False</td>\n",
       "      <td>...</td>\n",
       "      <td>3.504571</td>\n",
       "      <td>-1.116533</td>\n",
       "      <td>3.060714</td>\n",
       "      <td>0.572452</td>\n",
       "      <td>1.317723</td>\n",
       "      <td>-0.179112</td>\n",
       "      <td>0.810456</td>\n",
       "      <td>1</td>\n",
       "      <td>0.000000</td>\n",
       "      <td>NaN</td>\n",
       "    </tr>\n",
       "    <tr>\n",
       "      <th>2</th>\n",
       "      <td>40245</td>\n",
       "      <td>https://www.flashscore.com/match/vFBmzqrf</td>\n",
       "      <td>/en/scores/archive/nottingham/741/2006/results</td>\n",
       "      <td>https://www.flashscore.com/tennis/atp-singles/...</td>\n",
       "      <td>Nottingham</td>\n",
       "      <td>Nottingham</td>\n",
       "      <td>Nottingham</td>\n",
       "      <td>1/16-finals\\n</td>\n",
       "      <td>R32</td>\n",
       "      <td>False</td>\n",
       "      <td>...</td>\n",
       "      <td>22.130411</td>\n",
       "      <td>3.398449</td>\n",
       "      <td>7.139177</td>\n",
       "      <td>0.132143</td>\n",
       "      <td>3.299928</td>\n",
       "      <td>4.263095</td>\n",
       "      <td>3.479618</td>\n",
       "      <td>0</td>\n",
       "      <td>1.000000</td>\n",
       "      <td>-0.895000</td>\n",
       "    </tr>\n",
       "    <tr>\n",
       "      <th>3</th>\n",
       "      <td>40258</td>\n",
       "      <td>https://www.flashscore.com/match/4rfgNzuG</td>\n",
       "      <td>/en/scores/archive/nottingham/741/2005/results</td>\n",
       "      <td>https://www.flashscore.com/tennis/atp-singles/...</td>\n",
       "      <td>Nottingham</td>\n",
       "      <td>Nottingham</td>\n",
       "      <td>Nottingham</td>\n",
       "      <td>Quarter-finals\\n</td>\n",
       "      <td>QF</td>\n",
       "      <td>False</td>\n",
       "      <td>...</td>\n",
       "      <td>-37.309590</td>\n",
       "      <td>-5.512592</td>\n",
       "      <td>-9.856152</td>\n",
       "      <td>1.442251</td>\n",
       "      <td>11.429123</td>\n",
       "      <td>-7.872722</td>\n",
       "      <td>1.652120</td>\n",
       "      <td>1</td>\n",
       "      <td>0.333333</td>\n",
       "      <td>-0.333576</td>\n",
       "    </tr>\n",
       "    <tr>\n",
       "      <th>4</th>\n",
       "      <td>40261</td>\n",
       "      <td>https://www.flashscore.com/match/z36tQxec</td>\n",
       "      <td>/en/scores/archive/nottingham/741/2005/results</td>\n",
       "      <td>https://www.flashscore.com/tennis/atp-singles/...</td>\n",
       "      <td>Nottingham</td>\n",
       "      <td>Nottingham</td>\n",
       "      <td>Nottingham</td>\n",
       "      <td>1/8-finals\\n</td>\n",
       "      <td>R16</td>\n",
       "      <td>False</td>\n",
       "      <td>...</td>\n",
       "      <td>31.145862</td>\n",
       "      <td>6.209540</td>\n",
       "      <td>9.250494</td>\n",
       "      <td>-0.868953</td>\n",
       "      <td>-4.290539</td>\n",
       "      <td>7.084209</td>\n",
       "      <td>1.277690</td>\n",
       "      <td>0</td>\n",
       "      <td>1.000000</td>\n",
       "      <td>0.187869</td>\n",
       "    </tr>\n",
       "  </tbody>\n",
       "</table>\n",
       "<p>5 rows × 91 columns</p>\n",
       "</div>"
      ],
      "text/plain": [
       "      id                            url_match_flash  \\\n",
       "0  40040  https://www.flashscore.com/match/hM5Ou2TC   \n",
       "1  40195  https://www.flashscore.com/match/C87VUjyI   \n",
       "2  40245  https://www.flashscore.com/match/vFBmzqrf   \n",
       "3  40258  https://www.flashscore.com/match/4rfgNzuG   \n",
       "4  40261  https://www.flashscore.com/match/z36tQxec   \n",
       "\n",
       "                                    url_match_atp  \\\n",
       "0  /en/scores/archive/nottingham/741/2016/results   \n",
       "1  /en/scores/archive/nottingham/741/2007/results   \n",
       "2  /en/scores/archive/nottingham/741/2006/results   \n",
       "3  /en/scores/archive/nottingham/741/2005/results   \n",
       "4  /en/scores/archive/nottingham/741/2005/results   \n",
       "\n",
       "                                            url_tour name_tour_flash  \\\n",
       "0  https://www.flashscore.com/tennis/atp-singles/...      Nottingham   \n",
       "1  https://www.flashscore.com/tennis/atp-singles/...      Nottingham   \n",
       "2  https://www.flashscore.com/tennis/atp-singles/...      Nottingham   \n",
       "3  https://www.flashscore.com/tennis/atp-singles/...      Nottingham   \n",
       "4  https://www.flashscore.com/tennis/atp-singles/...      Nottingham   \n",
       "\n",
       "  name_tour_atp name_tour_csv       round_flash round_csv  qualif  \\\n",
       "0    Nottingham    Nottingham      1/8-finals\\n       R16   False   \n",
       "1    Nottingham    Nottingham  Quarter-finals\\n        QF   False   \n",
       "2    Nottingham    Nottingham     1/16-finals\\n       R32   False   \n",
       "3    Nottingham    Nottingham  Quarter-finals\\n        QF   False   \n",
       "4    Nottingham    Nottingham      1/8-finals\\n       R16   False   \n",
       "\n",
       "          ...          return_rating_20years  \\\n",
       "0         ...                     -14.964524   \n",
       "1         ...                       3.504571   \n",
       "2         ...                      22.130411   \n",
       "3         ...                     -37.309590   \n",
       "4         ...                      31.145862   \n",
       "\n",
       "  first_serve_return_point_won_20years  bp_converted_20years  \\\n",
       "0                            -2.858360             -2.022296   \n",
       "1                            -1.116533              3.060714   \n",
       "2                             3.398449              7.139177   \n",
       "3                            -5.512592             -9.856152   \n",
       "4                             6.209540              9.250494   \n",
       "\n",
       "   return_games_played_20years  service_point_won_20years  \\\n",
       "0                     0.454710                   3.177687   \n",
       "1                     0.572452                   1.317723   \n",
       "2                     0.132143                   3.299928   \n",
       "3                     1.442251                  11.429123   \n",
       "4                    -0.868953                  -4.290539   \n",
       "\n",
       "  return_point_won_20years total_point_won_20years winner_loser_match_win  \\\n",
       "0                -3.629932               -0.124964                      2   \n",
       "1                -0.179112                0.810456                      1   \n",
       "2                 4.263095                3.479618                      0   \n",
       "3                -7.872722                1.652120                      1   \n",
       "4                 7.084209                1.277690                      0   \n",
       "\n",
       "        h2h minutes_loser_winner  \n",
       "0 -0.333333            -0.104860  \n",
       "1  0.000000                  NaN  \n",
       "2  1.000000            -0.895000  \n",
       "3  0.333333            -0.333576  \n",
       "4  1.000000             0.187869  \n",
       "\n",
       "[5 rows x 91 columns]"
      ]
     },
     "execution_count": 289,
     "metadata": {},
     "output_type": "execute_result"
    }
   ],
   "source": [
    "dataset = load_dataset()\n",
    "dataset.head()"
   ]
  },
  {
   "cell_type": "code",
   "execution_count": 290,
   "metadata": {},
   "outputs": [
    {
     "data": {
      "text/html": [
       "<div>\n",
       "<style scoped>\n",
       "    .dataframe tbody tr th:only-of-type {\n",
       "        vertical-align: middle;\n",
       "    }\n",
       "\n",
       "    .dataframe tbody tr th {\n",
       "        vertical-align: top;\n",
       "    }\n",
       "\n",
       "    .dataframe thead th {\n",
       "        text-align: right;\n",
       "    }\n",
       "</style>\n",
       "<table border=\"1\" class=\"dataframe\">\n",
       "  <thead>\n",
       "    <tr style=\"text-align: right;\">\n",
       "      <th></th>\n",
       "      <th>id</th>\n",
       "      <th>url_match_flash</th>\n",
       "      <th>url_match_atp</th>\n",
       "      <th>url_tour</th>\n",
       "      <th>name_tour_flash</th>\n",
       "      <th>name_tour_atp</th>\n",
       "      <th>name_tour_csv</th>\n",
       "      <th>round_flash</th>\n",
       "      <th>round_csv</th>\n",
       "      <th>qualif</th>\n",
       "      <th>...</th>\n",
       "      <th>return_rating_20years</th>\n",
       "      <th>first_serve_return_point_won_20years</th>\n",
       "      <th>bp_converted_20years</th>\n",
       "      <th>return_games_played_20years</th>\n",
       "      <th>service_point_won_20years</th>\n",
       "      <th>return_point_won_20years</th>\n",
       "      <th>total_point_won_20years</th>\n",
       "      <th>winner_loser_match_win</th>\n",
       "      <th>h2h</th>\n",
       "      <th>minutes_loser_winner</th>\n",
       "    </tr>\n",
       "  </thead>\n",
       "  <tbody>\n",
       "    <tr>\n",
       "      <th>0</th>\n",
       "      <td>30022</td>\n",
       "      <td>https://www.flashscore.com/match/SKyqlq8P</td>\n",
       "      <td>/en/scores/archive/los-cabos/7480/2017/results</td>\n",
       "      <td>https://www.flashscore.com/tennis/atp-singles/...</td>\n",
       "      <td>Los Cabos</td>\n",
       "      <td>Los Cabos</td>\n",
       "      <td>Los Cabos</td>\n",
       "      <td>Final\\n</td>\n",
       "      <td>F</td>\n",
       "      <td>False</td>\n",
       "      <td>...</td>\n",
       "      <td>-17.461871</td>\n",
       "      <td>-3.987370</td>\n",
       "      <td>-11.449513</td>\n",
       "      <td>0.156938</td>\n",
       "      <td>-2.595103</td>\n",
       "      <td>-1.108027</td>\n",
       "      <td>-1.874679</td>\n",
       "      <td>0</td>\n",
       "      <td>1.0</td>\n",
       "      <td>0.457731</td>\n",
       "    </tr>\n",
       "    <tr>\n",
       "      <th>1</th>\n",
       "      <td>30023</td>\n",
       "      <td>https://www.flashscore.com/match/IekajS7L</td>\n",
       "      <td>/en/scores/archive/los-cabos/7480/2017/results</td>\n",
       "      <td>https://www.flashscore.com/tennis/atp-singles/...</td>\n",
       "      <td>Los Cabos</td>\n",
       "      <td>Los Cabos</td>\n",
       "      <td>Los Cabos</td>\n",
       "      <td>Semi-finals\\n</td>\n",
       "      <td>SF</td>\n",
       "      <td>False</td>\n",
       "      <td>...</td>\n",
       "      <td>22.390078</td>\n",
       "      <td>2.627578</td>\n",
       "      <td>7.492774</td>\n",
       "      <td>-0.752559</td>\n",
       "      <td>-9.021953</td>\n",
       "      <td>3.756551</td>\n",
       "      <td>-2.627998</td>\n",
       "      <td>0</td>\n",
       "      <td>1.0</td>\n",
       "      <td>-0.137505</td>\n",
       "    </tr>\n",
       "    <tr>\n",
       "      <th>2</th>\n",
       "      <td>30024</td>\n",
       "      <td>https://www.flashscore.com/match/vLlmvXxf</td>\n",
       "      <td>/en/scores/archive/los-cabos/7480/2017/results</td>\n",
       "      <td>https://www.flashscore.com/tennis/atp-singles/...</td>\n",
       "      <td>Los Cabos</td>\n",
       "      <td>Los Cabos</td>\n",
       "      <td>Los Cabos</td>\n",
       "      <td>Semi-finals\\n</td>\n",
       "      <td>SF</td>\n",
       "      <td>False</td>\n",
       "      <td>...</td>\n",
       "      <td>45.209048</td>\n",
       "      <td>7.596141</td>\n",
       "      <td>15.985236</td>\n",
       "      <td>-0.785729</td>\n",
       "      <td>3.878706</td>\n",
       "      <td>6.951435</td>\n",
       "      <td>5.029259</td>\n",
       "      <td>0</td>\n",
       "      <td>1.0</td>\n",
       "      <td>-0.277641</td>\n",
       "    </tr>\n",
       "    <tr>\n",
       "      <th>3</th>\n",
       "      <td>30025</td>\n",
       "      <td>https://www.flashscore.com/match/ve1m9xF3</td>\n",
       "      <td>/en/scores/archive/los-cabos/7480/2017/results</td>\n",
       "      <td>https://www.flashscore.com/tennis/atp-singles/...</td>\n",
       "      <td>Los Cabos</td>\n",
       "      <td>Los Cabos</td>\n",
       "      <td>Los Cabos</td>\n",
       "      <td>Quarter-finals\\n</td>\n",
       "      <td>QF</td>\n",
       "      <td>False</td>\n",
       "      <td>...</td>\n",
       "      <td>-33.188306</td>\n",
       "      <td>-4.911701</td>\n",
       "      <td>-11.974428</td>\n",
       "      <td>0.914570</td>\n",
       "      <td>7.322521</td>\n",
       "      <td>-5.316226</td>\n",
       "      <td>0.912647</td>\n",
       "      <td>1</td>\n",
       "      <td>0.0</td>\n",
       "      <td>0.169518</td>\n",
       "    </tr>\n",
       "    <tr>\n",
       "      <th>4</th>\n",
       "      <td>30026</td>\n",
       "      <td>https://www.flashscore.com/match/tOXMd8Pt</td>\n",
       "      <td>/en/scores/archive/los-cabos/7480/2017/results</td>\n",
       "      <td>https://www.flashscore.com/tennis/atp-singles/...</td>\n",
       "      <td>Los Cabos</td>\n",
       "      <td>Los Cabos</td>\n",
       "      <td>Los Cabos</td>\n",
       "      <td>Quarter-finals\\n</td>\n",
       "      <td>QF</td>\n",
       "      <td>False</td>\n",
       "      <td>...</td>\n",
       "      <td>-14.824904</td>\n",
       "      <td>-2.666891</td>\n",
       "      <td>-2.364239</td>\n",
       "      <td>-0.142913</td>\n",
       "      <td>-7.303195</td>\n",
       "      <td>-3.406316</td>\n",
       "      <td>-5.088535</td>\n",
       "      <td>0</td>\n",
       "      <td>1.0</td>\n",
       "      <td>-0.355505</td>\n",
       "    </tr>\n",
       "  </tbody>\n",
       "</table>\n",
       "<p>5 rows × 91 columns</p>\n",
       "</div>"
      ],
      "text/plain": [
       "      id                            url_match_flash  \\\n",
       "0  30022  https://www.flashscore.com/match/SKyqlq8P   \n",
       "1  30023  https://www.flashscore.com/match/IekajS7L   \n",
       "2  30024  https://www.flashscore.com/match/vLlmvXxf   \n",
       "3  30025  https://www.flashscore.com/match/ve1m9xF3   \n",
       "4  30026  https://www.flashscore.com/match/tOXMd8Pt   \n",
       "\n",
       "                                    url_match_atp  \\\n",
       "0  /en/scores/archive/los-cabos/7480/2017/results   \n",
       "1  /en/scores/archive/los-cabos/7480/2017/results   \n",
       "2  /en/scores/archive/los-cabos/7480/2017/results   \n",
       "3  /en/scores/archive/los-cabos/7480/2017/results   \n",
       "4  /en/scores/archive/los-cabos/7480/2017/results   \n",
       "\n",
       "                                            url_tour name_tour_flash  \\\n",
       "0  https://www.flashscore.com/tennis/atp-singles/...       Los Cabos   \n",
       "1  https://www.flashscore.com/tennis/atp-singles/...       Los Cabos   \n",
       "2  https://www.flashscore.com/tennis/atp-singles/...       Los Cabos   \n",
       "3  https://www.flashscore.com/tennis/atp-singles/...       Los Cabos   \n",
       "4  https://www.flashscore.com/tennis/atp-singles/...       Los Cabos   \n",
       "\n",
       "  name_tour_atp name_tour_csv       round_flash round_csv  qualif  \\\n",
       "0     Los Cabos     Los Cabos           Final\\n         F   False   \n",
       "1     Los Cabos     Los Cabos     Semi-finals\\n        SF   False   \n",
       "2     Los Cabos     Los Cabos     Semi-finals\\n        SF   False   \n",
       "3     Los Cabos     Los Cabos  Quarter-finals\\n        QF   False   \n",
       "4     Los Cabos     Los Cabos  Quarter-finals\\n        QF   False   \n",
       "\n",
       "          ...          return_rating_20years  \\\n",
       "0         ...                     -17.461871   \n",
       "1         ...                      22.390078   \n",
       "2         ...                      45.209048   \n",
       "3         ...                     -33.188306   \n",
       "4         ...                     -14.824904   \n",
       "\n",
       "  first_serve_return_point_won_20years  bp_converted_20years  \\\n",
       "0                            -3.987370            -11.449513   \n",
       "1                             2.627578              7.492774   \n",
       "2                             7.596141             15.985236   \n",
       "3                            -4.911701            -11.974428   \n",
       "4                            -2.666891             -2.364239   \n",
       "\n",
       "   return_games_played_20years  service_point_won_20years  \\\n",
       "0                     0.156938                  -2.595103   \n",
       "1                    -0.752559                  -9.021953   \n",
       "2                    -0.785729                   3.878706   \n",
       "3                     0.914570                   7.322521   \n",
       "4                    -0.142913                  -7.303195   \n",
       "\n",
       "  return_point_won_20years total_point_won_20years winner_loser_match_win  \\\n",
       "0                -1.108027               -1.874679                      0   \n",
       "1                 3.756551               -2.627998                      0   \n",
       "2                 6.951435                5.029259                      0   \n",
       "3                -5.316226                0.912647                      1   \n",
       "4                -3.406316               -5.088535                      0   \n",
       "\n",
       "   h2h minutes_loser_winner  \n",
       "0  1.0             0.457731  \n",
       "1  1.0            -0.137505  \n",
       "2  1.0            -0.277641  \n",
       "3  0.0             0.169518  \n",
       "4  1.0            -0.355505  \n",
       "\n",
       "[5 rows x 91 columns]"
      ]
     },
     "execution_count": 290,
     "metadata": {},
     "output_type": "execute_result"
    }
   ],
   "source": [
    "predset = load_predictset()\n",
    "predset.head()"
   ]
  },
  {
   "cell_type": "code",
   "execution_count": 292,
   "metadata": {},
   "outputs": [
    {
     "data": {
      "text/plain": [
       "(3761, 91)"
      ]
     },
     "execution_count": 292,
     "metadata": {},
     "output_type": "execute_result"
    }
   ],
   "source": [
    "predset.shape"
   ]
  },
  {
   "cell_type": "code",
   "execution_count": 293,
   "metadata": {},
   "outputs": [
    {
     "data": {
      "text/plain": [
       "(34148, 91)"
      ]
     },
     "execution_count": 293,
     "metadata": {},
     "output_type": "execute_result"
    }
   ],
   "source": [
    "dataset.shape"
   ]
  },
  {
   "cell_type": "code",
   "execution_count": 294,
   "metadata": {
    "scrolled": true
   },
   "outputs": [
    {
     "name": "stdout",
     "output_type": "stream",
     "text": [
      "<class 'pandas.core.frame.DataFrame'>\n",
      "RangeIndex: 34148 entries, 0 to 34147\n",
      "Data columns (total 91 columns):\n",
      "id                                      34148 non-null int64\n",
      "url_match_flash                         34148 non-null object\n",
      "url_match_atp                           34148 non-null object\n",
      "url_tour                                34148 non-null object\n",
      "name_tour_flash                         34148 non-null object\n",
      "name_tour_atp                           34148 non-null object\n",
      "name_tour_csv                           34148 non-null object\n",
      "round_flash                             34068 non-null object\n",
      "round_csv                               34148 non-null object\n",
      "qualif                                  34148 non-null bool\n",
      "door                                    34148 non-null object\n",
      "surface                                 34148 non-null object\n",
      "prize                                   34148 non-null int64\n",
      "year_atp                                34148 non-null int64\n",
      "year_flash                              34148 non-null int64\n",
      "date_flash                              34148 non-null object\n",
      "date_csv                                34148 non-null object\n",
      "date_atp                                34148 non-null object\n",
      "loc_flash                               34148 non-null object\n",
      "loc_atp                                 34129 non-null object\n",
      "name_win_atp                            34148 non-null object\n",
      "name_win_csv                            34148 non-null object\n",
      "name_los_atp                            34148 non-null object\n",
      "name_los_csv                            34148 non-null object\n",
      "url_win_atp                             34148 non-null object\n",
      "url_los_atp                             34148 non-null object\n",
      "hand_win                                34148 non-null object\n",
      "hand_los                                34148 non-null object\n",
      "draw_size                               34148 non-null int64\n",
      "level_tour                              34148 non-null object\n",
      "seed_win                                16259 non-null float64\n",
      "entry_win                               4414 non-null object\n",
      "seed_los                                8752 non-null float64\n",
      "entry_los                               7414 non-null object\n",
      "ht_win                                  33093 non-null float64\n",
      "ht_win-2                                32287 non-null float64\n",
      "points_win                              34148 non-null int64\n",
      "points_los                              34148 non-null int64\n",
      "age_win                                 34148 non-null float64\n",
      "age_los                                 34148 non-null float64\n",
      "score                                   34148 non-null object\n",
      "url_home                                34148 non-null object\n",
      "name_home                               34148 non-null object\n",
      "birthday_home                           31715 non-null object\n",
      "country_home                            33409 non-null object\n",
      "url_away                                34148 non-null object\n",
      "name_away                               34148 non-null object\n",
      "birthday_away                           31184 non-null object\n",
      "country_away                            33392 non-null object\n",
      "url_weather                             34148 non-null object\n",
      "loc_weather                             34148 non-null object\n",
      "temp_weather                            26611 non-null float64\n",
      "press_weather                           25347 non-null float64\n",
      "humid_weather                           26600 non-null float64\n",
      "uncertainty_1year                       33667 non-null float64\n",
      "count_match_1year                       33667 non-null float64\n",
      "serve_rating_1year                      33667 non-null float64\n",
      "aces_1year                              33667 non-null float64\n",
      "double_faults_1year                     33667 non-null float64\n",
      "first_serve_1year                       33667 non-null float64\n",
      "first_serve_point_won_1year             33667 non-null float64\n",
      "second_serve_point_won_1year            33667 non-null float64\n",
      "bp_saved_1year                          33667 non-null float64\n",
      "service_game_played_1year               33667 non-null float64\n",
      "return_rating_1year                     33667 non-null float64\n",
      "first_serve_return_point_won_1year      33667 non-null float64\n",
      "bp_converted_1year                      33667 non-null float64\n",
      "return_games_played_1year               33667 non-null float64\n",
      "service_point_won_1year                 33667 non-null float64\n",
      "return_point_won_1year                  33667 non-null float64\n",
      "total_point_won_1year                   33667 non-null float64\n",
      "uncertainty_20years                     33865 non-null float64\n",
      "count_match_20years                     33865 non-null float64\n",
      "serve_rating_20years                    33865 non-null float64\n",
      "aces_20years                            33865 non-null float64\n",
      "double_faults_20years                   33865 non-null float64\n",
      "first_serve_20years                     33865 non-null float64\n",
      "first_serve_point_won_20years           33865 non-null float64\n",
      "second_serve_point_won_20years          33865 non-null float64\n",
      "bp_saved_20years                        33865 non-null float64\n",
      "service_game_played_20years             33865 non-null float64\n",
      "return_rating_20years                   33865 non-null float64\n",
      "first_serve_return_point_won_20years    33865 non-null float64\n",
      "bp_converted_20years                    33865 non-null float64\n",
      "return_games_played_20years             33865 non-null float64\n",
      "service_point_won_20years               33865 non-null float64\n",
      "return_point_won_20years                33865 non-null float64\n",
      "total_point_won_20years                 33865 non-null float64\n",
      "winner_loser_match_win                  34148 non-null int64\n",
      "h2h                                     34148 non-null float64\n",
      "minutes_loser_winner                    30297 non-null float64\n",
      "dtypes: bool(1), float64(45), int64(8), object(37)\n",
      "memory usage: 23.5+ MB\n"
     ]
    }
   ],
   "source": [
    "dataset.info()"
   ]
  },
  {
   "cell_type": "code",
   "execution_count": 295,
   "metadata": {},
   "outputs": [
    {
     "name": "stdout",
     "output_type": "stream",
     "text": [
      "Saving figure attribute_histogram_plots\n"
     ]
    },
    {
     "data": {
      "image/png": "[encoded data removed]",
      "text/plain": [
       "<matplotlib.figure.Figure at 0x7fe9330e60f0>"
      ]
     },
     "metadata": {},
     "output_type": "display_data"
    }
   ],
   "source": [
    "%matplotlib inline\n",
    "import matplotlib.pyplot as plt\n",
    "dataset.hist(bins=50, figsize=(20,15))\n",
    "save_fig(\"attribute_histogram_plots\")\n",
    "plt.show()"
   ]
  },
  {
   "cell_type": "code",
   "execution_count": 296,
   "metadata": {},
   "outputs": [],
   "source": [
    "# to make this notebook's output identical at every run\n",
    "np.random.seed(42)"
   ]
  },
  {
   "cell_type": "markdown",
   "metadata": {},
   "source": [
    "### split the training set and the test set into 2 batchs with the hash id"
   ]
  },
  {
   "cell_type": "code",
   "execution_count": 297,
   "metadata": {},
   "outputs": [],
   "source": [
    "import hashlib\n",
    "\n",
    "def test_set_check(identifier, test_ratio, hash=hashlib.md5):\n",
    "    return bytearray(hash(np.int64(identifier)).digest())[-1] < 256 * test_ratio\n",
    "\n",
    "def split_train_test_by_id(data, test_ratio, id_column):\n",
    "    ids = data[id_column]\n",
    "    in_test_set = ids.apply(lambda id_: test_set_check(id_, test_ratio))\n",
    "    return data.loc[~in_test_set], data.loc[in_test_set]"
   ]
  },
  {
   "cell_type": "code",
   "execution_count": 298,
   "metadata": {},
   "outputs": [],
   "source": [
    "train_set, test_set = split_train_test_by_id(dataset, 0.2, \"id\")"
   ]
  },
  {
   "cell_type": "code",
   "execution_count": null,
   "metadata": {},
   "outputs": [],
   "source": []
  },
  {
   "cell_type": "code",
   "execution_count": null,
   "metadata": {},
   "outputs": [],
   "source": []
  },
  {
   "cell_type": "code",
   "execution_count": 299,
   "metadata": {},
   "outputs": [
    {
     "name": "stdout",
     "output_type": "stream",
     "text": [
      "(27148, 91)\n"
     ]
    },
    {
     "data": {
      "text/html": [
       "<div>\n",
       "<style scoped>\n",
       "    .dataframe tbody tr th:only-of-type {\n",
       "        vertical-align: middle;\n",
       "    }\n",
       "\n",
       "    .dataframe tbody tr th {\n",
       "        vertical-align: top;\n",
       "    }\n",
       "\n",
       "    .dataframe thead th {\n",
       "        text-align: right;\n",
       "    }\n",
       "</style>\n",
       "<table border=\"1\" class=\"dataframe\">\n",
       "  <thead>\n",
       "    <tr style=\"text-align: right;\">\n",
       "      <th></th>\n",
       "      <th>id</th>\n",
       "      <th>url_match_flash</th>\n",
       "      <th>url_match_atp</th>\n",
       "      <th>url_tour</th>\n",
       "      <th>name_tour_flash</th>\n",
       "      <th>name_tour_atp</th>\n",
       "      <th>name_tour_csv</th>\n",
       "      <th>round_flash</th>\n",
       "      <th>round_csv</th>\n",
       "      <th>qualif</th>\n",
       "      <th>...</th>\n",
       "      <th>return_rating_20years</th>\n",
       "      <th>first_serve_return_point_won_20years</th>\n",
       "      <th>bp_converted_20years</th>\n",
       "      <th>return_games_played_20years</th>\n",
       "      <th>service_point_won_20years</th>\n",
       "      <th>return_point_won_20years</th>\n",
       "      <th>total_point_won_20years</th>\n",
       "      <th>winner_loser_match_win</th>\n",
       "      <th>h2h</th>\n",
       "      <th>minutes_loser_winner</th>\n",
       "    </tr>\n",
       "  </thead>\n",
       "  <tbody>\n",
       "    <tr>\n",
       "      <th>0</th>\n",
       "      <td>40040</td>\n",
       "      <td>https://www.flashscore.com/match/hM5Ou2TC</td>\n",
       "      <td>/en/scores/archive/nottingham/741/2016/results</td>\n",
       "      <td>https://www.flashscore.com/tennis/atp-singles/...</td>\n",
       "      <td>Nottingham</td>\n",
       "      <td>Nottingham</td>\n",
       "      <td>Nottingham</td>\n",
       "      <td>1/8-finals\\n</td>\n",
       "      <td>R16</td>\n",
       "      <td>False</td>\n",
       "      <td>...</td>\n",
       "      <td>-14.964524</td>\n",
       "      <td>-2.858360</td>\n",
       "      <td>-2.022296</td>\n",
       "      <td>0.454710</td>\n",
       "      <td>3.177687</td>\n",
       "      <td>-3.629932</td>\n",
       "      <td>-0.124964</td>\n",
       "      <td>2</td>\n",
       "      <td>-0.333333</td>\n",
       "      <td>-0.104860</td>\n",
       "    </tr>\n",
       "    <tr>\n",
       "      <th>1</th>\n",
       "      <td>40195</td>\n",
       "      <td>https://www.flashscore.com/match/C87VUjyI</td>\n",
       "      <td>/en/scores/archive/nottingham/741/2007/results</td>\n",
       "      <td>https://www.flashscore.com/tennis/atp-singles/...</td>\n",
       "      <td>Nottingham</td>\n",
       "      <td>Nottingham</td>\n",
       "      <td>Nottingham</td>\n",
       "      <td>Quarter-finals\\n</td>\n",
       "      <td>QF</td>\n",
       "      <td>False</td>\n",
       "      <td>...</td>\n",
       "      <td>3.504571</td>\n",
       "      <td>-1.116533</td>\n",
       "      <td>3.060714</td>\n",
       "      <td>0.572452</td>\n",
       "      <td>1.317723</td>\n",
       "      <td>-0.179112</td>\n",
       "      <td>0.810456</td>\n",
       "      <td>1</td>\n",
       "      <td>0.000000</td>\n",
       "      <td>NaN</td>\n",
       "    </tr>\n",
       "    <tr>\n",
       "      <th>2</th>\n",
       "      <td>40245</td>\n",
       "      <td>https://www.flashscore.com/match/vFBmzqrf</td>\n",
       "      <td>/en/scores/archive/nottingham/741/2006/results</td>\n",
       "      <td>https://www.flashscore.com/tennis/atp-singles/...</td>\n",
       "      <td>Nottingham</td>\n",
       "      <td>Nottingham</td>\n",
       "      <td>Nottingham</td>\n",
       "      <td>1/16-finals\\n</td>\n",
       "      <td>R32</td>\n",
       "      <td>False</td>\n",
       "      <td>...</td>\n",
       "      <td>22.130411</td>\n",
       "      <td>3.398449</td>\n",
       "      <td>7.139177</td>\n",
       "      <td>0.132143</td>\n",
       "      <td>3.299928</td>\n",
       "      <td>4.263095</td>\n",
       "      <td>3.479618</td>\n",
       "      <td>0</td>\n",
       "      <td>1.000000</td>\n",
       "      <td>-0.895000</td>\n",
       "    </tr>\n",
       "    <tr>\n",
       "      <th>3</th>\n",
       "      <td>40258</td>\n",
       "      <td>https://www.flashscore.com/match/4rfgNzuG</td>\n",
       "      <td>/en/scores/archive/nottingham/741/2005/results</td>\n",
       "      <td>https://www.flashscore.com/tennis/atp-singles/...</td>\n",
       "      <td>Nottingham</td>\n",
       "      <td>Nottingham</td>\n",
       "      <td>Nottingham</td>\n",
       "      <td>Quarter-finals\\n</td>\n",
       "      <td>QF</td>\n",
       "      <td>False</td>\n",
       "      <td>...</td>\n",
       "      <td>-37.309590</td>\n",
       "      <td>-5.512592</td>\n",
       "      <td>-9.856152</td>\n",
       "      <td>1.442251</td>\n",
       "      <td>11.429123</td>\n",
       "      <td>-7.872722</td>\n",
       "      <td>1.652120</td>\n",
       "      <td>1</td>\n",
       "      <td>0.333333</td>\n",
       "      <td>-0.333576</td>\n",
       "    </tr>\n",
       "    <tr>\n",
       "      <th>4</th>\n",
       "      <td>40261</td>\n",
       "      <td>https://www.flashscore.com/match/z36tQxec</td>\n",
       "      <td>/en/scores/archive/nottingham/741/2005/results</td>\n",
       "      <td>https://www.flashscore.com/tennis/atp-singles/...</td>\n",
       "      <td>Nottingham</td>\n",
       "      <td>Nottingham</td>\n",
       "      <td>Nottingham</td>\n",
       "      <td>1/8-finals\\n</td>\n",
       "      <td>R16</td>\n",
       "      <td>False</td>\n",
       "      <td>...</td>\n",
       "      <td>31.145862</td>\n",
       "      <td>6.209540</td>\n",
       "      <td>9.250494</td>\n",
       "      <td>-0.868953</td>\n",
       "      <td>-4.290539</td>\n",
       "      <td>7.084209</td>\n",
       "      <td>1.277690</td>\n",
       "      <td>0</td>\n",
       "      <td>1.000000</td>\n",
       "      <td>0.187869</td>\n",
       "    </tr>\n",
       "  </tbody>\n",
       "</table>\n",
       "<p>5 rows × 91 columns</p>\n",
       "</div>"
      ],
      "text/plain": [
       "      id                            url_match_flash  \\\n",
       "0  40040  https://www.flashscore.com/match/hM5Ou2TC   \n",
       "1  40195  https://www.flashscore.com/match/C87VUjyI   \n",
       "2  40245  https://www.flashscore.com/match/vFBmzqrf   \n",
       "3  40258  https://www.flashscore.com/match/4rfgNzuG   \n",
       "4  40261  https://www.flashscore.com/match/z36tQxec   \n",
       "\n",
       "                                    url_match_atp  \\\n",
       "0  /en/scores/archive/nottingham/741/2016/results   \n",
       "1  /en/scores/archive/nottingham/741/2007/results   \n",
       "2  /en/scores/archive/nottingham/741/2006/results   \n",
       "3  /en/scores/archive/nottingham/741/2005/results   \n",
       "4  /en/scores/archive/nottingham/741/2005/results   \n",
       "\n",
       "                                            url_tour name_tour_flash  \\\n",
       "0  https://www.flashscore.com/tennis/atp-singles/...      Nottingham   \n",
       "1  https://www.flashscore.com/tennis/atp-singles/...      Nottingham   \n",
       "2  https://www.flashscore.com/tennis/atp-singles/...      Nottingham   \n",
       "3  https://www.flashscore.com/tennis/atp-singles/...      Nottingham   \n",
       "4  https://www.flashscore.com/tennis/atp-singles/...      Nottingham   \n",
       "\n",
       "  name_tour_atp name_tour_csv       round_flash round_csv  qualif  \\\n",
       "0    Nottingham    Nottingham      1/8-finals\\n       R16   False   \n",
       "1    Nottingham    Nottingham  Quarter-finals\\n        QF   False   \n",
       "2    Nottingham    Nottingham     1/16-finals\\n       R32   False   \n",
       "3    Nottingham    Nottingham  Quarter-finals\\n        QF   False   \n",
       "4    Nottingham    Nottingham      1/8-finals\\n       R16   False   \n",
       "\n",
       "          ...          return_rating_20years  \\\n",
       "0         ...                     -14.964524   \n",
       "1         ...                       3.504571   \n",
       "2         ...                      22.130411   \n",
       "3         ...                     -37.309590   \n",
       "4         ...                      31.145862   \n",
       "\n",
       "  first_serve_return_point_won_20years  bp_converted_20years  \\\n",
       "0                            -2.858360             -2.022296   \n",
       "1                            -1.116533              3.060714   \n",
       "2                             3.398449              7.139177   \n",
       "3                            -5.512592             -9.856152   \n",
       "4                             6.209540              9.250494   \n",
       "\n",
       "   return_games_played_20years  service_point_won_20years  \\\n",
       "0                     0.454710                   3.177687   \n",
       "1                     0.572452                   1.317723   \n",
       "2                     0.132143                   3.299928   \n",
       "3                     1.442251                  11.429123   \n",
       "4                    -0.868953                  -4.290539   \n",
       "\n",
       "  return_point_won_20years total_point_won_20years winner_loser_match_win  \\\n",
       "0                -3.629932               -0.124964                      2   \n",
       "1                -0.179112                0.810456                      1   \n",
       "2                 4.263095                3.479618                      0   \n",
       "3                -7.872722                1.652120                      1   \n",
       "4                 7.084209                1.277690                      0   \n",
       "\n",
       "        h2h minutes_loser_winner  \n",
       "0 -0.333333            -0.104860  \n",
       "1  0.000000                  NaN  \n",
       "2  1.000000            -0.895000  \n",
       "3  0.333333            -0.333576  \n",
       "4  1.000000             0.187869  \n",
       "\n",
       "[5 rows x 91 columns]"
      ]
     },
     "execution_count": 299,
     "metadata": {},
     "output_type": "execute_result"
    }
   ],
   "source": [
    "print(train_set.shape)\n",
    "train_set.head()"
   ]
  },
  {
   "cell_type": "code",
   "execution_count": 300,
   "metadata": {},
   "outputs": [
    {
     "name": "stdout",
     "output_type": "stream",
     "text": [
      "(7000, 91)\n"
     ]
    },
    {
     "data": {
      "text/html": [
       "<div>\n",
       "<style scoped>\n",
       "    .dataframe tbody tr th:only-of-type {\n",
       "        vertical-align: middle;\n",
       "    }\n",
       "\n",
       "    .dataframe tbody tr th {\n",
       "        vertical-align: top;\n",
       "    }\n",
       "\n",
       "    .dataframe thead th {\n",
       "        text-align: right;\n",
       "    }\n",
       "</style>\n",
       "<table border=\"1\" class=\"dataframe\">\n",
       "  <thead>\n",
       "    <tr style=\"text-align: right;\">\n",
       "      <th></th>\n",
       "      <th>id</th>\n",
       "      <th>url_match_flash</th>\n",
       "      <th>url_match_atp</th>\n",
       "      <th>url_tour</th>\n",
       "      <th>name_tour_flash</th>\n",
       "      <th>name_tour_atp</th>\n",
       "      <th>name_tour_csv</th>\n",
       "      <th>round_flash</th>\n",
       "      <th>round_csv</th>\n",
       "      <th>qualif</th>\n",
       "      <th>...</th>\n",
       "      <th>return_rating_20years</th>\n",
       "      <th>first_serve_return_point_won_20years</th>\n",
       "      <th>bp_converted_20years</th>\n",
       "      <th>return_games_played_20years</th>\n",
       "      <th>service_point_won_20years</th>\n",
       "      <th>return_point_won_20years</th>\n",
       "      <th>total_point_won_20years</th>\n",
       "      <th>winner_loser_match_win</th>\n",
       "      <th>h2h</th>\n",
       "      <th>minutes_loser_winner</th>\n",
       "    </tr>\n",
       "  </thead>\n",
       "  <tbody>\n",
       "    <tr>\n",
       "      <th>9</th>\n",
       "      <td>40312</td>\n",
       "      <td>https://www.flashscore.com/match/2ReeHvHH</td>\n",
       "      <td>/en/scores/archive/nottingham/741/2004/results</td>\n",
       "      <td>https://www.flashscore.com/tennis/atp-singles/...</td>\n",
       "      <td>Nottingham</td>\n",
       "      <td>Nottingham</td>\n",
       "      <td>Nottingham</td>\n",
       "      <td>1/16-finals\\n</td>\n",
       "      <td>R32</td>\n",
       "      <td>False</td>\n",
       "      <td>...</td>\n",
       "      <td>0.783333</td>\n",
       "      <td>0.333333</td>\n",
       "      <td>5.683333</td>\n",
       "      <td>1.100000</td>\n",
       "      <td>4.683333</td>\n",
       "      <td>-2.466667</td>\n",
       "      <td>1.883333</td>\n",
       "      <td>0</td>\n",
       "      <td>1.000000</td>\n",
       "      <td>NaN</td>\n",
       "    </tr>\n",
       "    <tr>\n",
       "      <th>22</th>\n",
       "      <td>41596</td>\n",
       "      <td>https://www.flashscore.com/match/vyRPCNvJ</td>\n",
       "      <td>/en/scores/archive/paris/352/2001/results</td>\n",
       "      <td>https://www.flashscore.com/tennis/atp-singles/...</td>\n",
       "      <td>Paris</td>\n",
       "      <td>ATP World Tour Masters 1000 Paris</td>\n",
       "      <td>Paris</td>\n",
       "      <td>1/16-finals\\n</td>\n",
       "      <td>R32</td>\n",
       "      <td>False</td>\n",
       "      <td>...</td>\n",
       "      <td>-2.560844</td>\n",
       "      <td>-0.421850</td>\n",
       "      <td>-2.332023</td>\n",
       "      <td>-0.363784</td>\n",
       "      <td>-2.736662</td>\n",
       "      <td>-0.077111</td>\n",
       "      <td>-1.452739</td>\n",
       "      <td>2</td>\n",
       "      <td>0.500000</td>\n",
       "      <td>0.081899</td>\n",
       "    </tr>\n",
       "    <tr>\n",
       "      <th>29</th>\n",
       "      <td>42657</td>\n",
       "      <td>https://www.flashscore.com/match/t4UwyWJg</td>\n",
       "      <td>/en/scores/archive/rome/416/2010/results</td>\n",
       "      <td>https://www.flashscore.com/tennis/atp-singles/...</td>\n",
       "      <td>Rome</td>\n",
       "      <td>ATP World Tour Masters 1000 Rome</td>\n",
       "      <td>Rome</td>\n",
       "      <td>Quarter-finals\\n</td>\n",
       "      <td>QF</td>\n",
       "      <td>False</td>\n",
       "      <td>...</td>\n",
       "      <td>-36.338072</td>\n",
       "      <td>-5.562282</td>\n",
       "      <td>-9.507064</td>\n",
       "      <td>1.945740</td>\n",
       "      <td>-3.596497</td>\n",
       "      <td>-6.271894</td>\n",
       "      <td>-4.520872</td>\n",
       "      <td>3</td>\n",
       "      <td>0.600000</td>\n",
       "      <td>NaN</td>\n",
       "    </tr>\n",
       "    <tr>\n",
       "      <th>30</th>\n",
       "      <td>42012</td>\n",
       "      <td>https://www.flashscore.com/match/Grg3eD1O</td>\n",
       "      <td>/en/scores/archive/rio-de-janeiro/6932/2014/re...</td>\n",
       "      <td>https://www.flashscore.com/tennis/atp-singles/...</td>\n",
       "      <td>Rio de Janeiro</td>\n",
       "      <td>Rio de Janeiro</td>\n",
       "      <td>Rio de Janeiro</td>\n",
       "      <td>1/8-finals\\n</td>\n",
       "      <td>R16</td>\n",
       "      <td>False</td>\n",
       "      <td>...</td>\n",
       "      <td>-46.052692</td>\n",
       "      <td>-8.709631</td>\n",
       "      <td>-10.788813</td>\n",
       "      <td>0.452274</td>\n",
       "      <td>-8.832555</td>\n",
       "      <td>-8.892710</td>\n",
       "      <td>-8.229462</td>\n",
       "      <td>0</td>\n",
       "      <td>1.000000</td>\n",
       "      <td>0.701369</td>\n",
       "    </tr>\n",
       "    <tr>\n",
       "      <th>31</th>\n",
       "      <td>42199</td>\n",
       "      <td>https://www.flashscore.com/match/KjI632zU</td>\n",
       "      <td>/en/scores/archive/rome/416/2016/results</td>\n",
       "      <td>https://www.flashscore.com/tennis/atp-singles/...</td>\n",
       "      <td>Rome</td>\n",
       "      <td>ATP World Tour Masters 1000 Rome</td>\n",
       "      <td>Rome</td>\n",
       "      <td>Semi-finals\\n</td>\n",
       "      <td>QF</td>\n",
       "      <td>False</td>\n",
       "      <td>...</td>\n",
       "      <td>-16.084329</td>\n",
       "      <td>-3.813139</td>\n",
       "      <td>-3.074175</td>\n",
       "      <td>0.329998</td>\n",
       "      <td>-5.356549</td>\n",
       "      <td>-3.257828</td>\n",
       "      <td>-4.025027</td>\n",
       "      <td>2</td>\n",
       "      <td>0.666667</td>\n",
       "      <td>-0.028811</td>\n",
       "    </tr>\n",
       "  </tbody>\n",
       "</table>\n",
       "<p>5 rows × 91 columns</p>\n",
       "</div>"
      ],
      "text/plain": [
       "       id                            url_match_flash  \\\n",
       "9   40312  https://www.flashscore.com/match/2ReeHvHH   \n",
       "22  41596  https://www.flashscore.com/match/vyRPCNvJ   \n",
       "29  42657  https://www.flashscore.com/match/t4UwyWJg   \n",
       "30  42012  https://www.flashscore.com/match/Grg3eD1O   \n",
       "31  42199  https://www.flashscore.com/match/KjI632zU   \n",
       "\n",
       "                                        url_match_atp  \\\n",
       "9      /en/scores/archive/nottingham/741/2004/results   \n",
       "22          /en/scores/archive/paris/352/2001/results   \n",
       "29           /en/scores/archive/rome/416/2010/results   \n",
       "30  /en/scores/archive/rio-de-janeiro/6932/2014/re...   \n",
       "31           /en/scores/archive/rome/416/2016/results   \n",
       "\n",
       "                                             url_tour name_tour_flash  \\\n",
       "9   https://www.flashscore.com/tennis/atp-singles/...      Nottingham   \n",
       "22  https://www.flashscore.com/tennis/atp-singles/...           Paris   \n",
       "29  https://www.flashscore.com/tennis/atp-singles/...            Rome   \n",
       "30  https://www.flashscore.com/tennis/atp-singles/...  Rio de Janeiro   \n",
       "31  https://www.flashscore.com/tennis/atp-singles/...            Rome   \n",
       "\n",
       "                        name_tour_atp   name_tour_csv       round_flash  \\\n",
       "9                          Nottingham      Nottingham     1/16-finals\\n   \n",
       "22  ATP World Tour Masters 1000 Paris           Paris     1/16-finals\\n   \n",
       "29   ATP World Tour Masters 1000 Rome            Rome  Quarter-finals\\n   \n",
       "30                     Rio de Janeiro  Rio de Janeiro      1/8-finals\\n   \n",
       "31   ATP World Tour Masters 1000 Rome            Rome     Semi-finals\\n   \n",
       "\n",
       "   round_csv  qualif         ...          return_rating_20years  \\\n",
       "9        R32   False         ...                       0.783333   \n",
       "22       R32   False         ...                      -2.560844   \n",
       "29        QF   False         ...                     -36.338072   \n",
       "30       R16   False         ...                     -46.052692   \n",
       "31        QF   False         ...                     -16.084329   \n",
       "\n",
       "   first_serve_return_point_won_20years  bp_converted_20years  \\\n",
       "9                              0.333333              5.683333   \n",
       "22                            -0.421850             -2.332023   \n",
       "29                            -5.562282             -9.507064   \n",
       "30                            -8.709631            -10.788813   \n",
       "31                            -3.813139             -3.074175   \n",
       "\n",
       "    return_games_played_20years  service_point_won_20years  \\\n",
       "9                      1.100000                   4.683333   \n",
       "22                    -0.363784                  -2.736662   \n",
       "29                     1.945740                  -3.596497   \n",
       "30                     0.452274                  -8.832555   \n",
       "31                     0.329998                  -5.356549   \n",
       "\n",
       "   return_point_won_20years total_point_won_20years winner_loser_match_win  \\\n",
       "9                 -2.466667                1.883333                      0   \n",
       "22                -0.077111               -1.452739                      2   \n",
       "29                -6.271894               -4.520872                      3   \n",
       "30                -8.892710               -8.229462                      0   \n",
       "31                -3.257828               -4.025027                      2   \n",
       "\n",
       "         h2h minutes_loser_winner  \n",
       "9   1.000000                  NaN  \n",
       "22  0.500000             0.081899  \n",
       "29  0.600000                  NaN  \n",
       "30  1.000000             0.701369  \n",
       "31  0.666667            -0.028811  \n",
       "\n",
       "[5 rows x 91 columns]"
      ]
     },
     "execution_count": 300,
     "metadata": {},
     "output_type": "execute_result"
    }
   ],
   "source": [
    "print(test_set.shape)\n",
    "test_set.head()"
   ]
  },
  {
   "cell_type": "code",
   "execution_count": 301,
   "metadata": {},
   "outputs": [],
   "source": [
    "dataset = train_set.copy()"
   ]
  },
  {
   "cell_type": "code",
   "execution_count": 302,
   "metadata": {},
   "outputs": [
    {
     "data": {
      "text/plain": [
       "32     9754\n",
       "128    4758\n",
       "28     3155\n",
       "56     3120\n",
       "48     2549\n",
       "96     1990\n",
       "64     1737\n",
       "8        74\n",
       "16       11\n",
       "Name: draw_size, dtype: int64"
      ]
     },
     "execution_count": 302,
     "metadata": {},
     "output_type": "execute_result"
    }
   ],
   "source": [
    "dataset[\"draw_size\"] = dataset[\"draw_size\"].astype(\"object\")\n",
    "dataset[\"draw_size\"].value_counts()"
   ]
  },
  {
   "cell_type": "code",
   "execution_count": 303,
   "metadata": {},
   "outputs": [
    {
     "data": {
      "text/plain": [
       "A    16240\n",
       "M     6233\n",
       "G     4590\n",
       "F       85\n",
       "Name: level_tour, dtype: int64"
      ]
     },
     "execution_count": 303,
     "metadata": {},
     "output_type": "execute_result"
    }
   ],
   "source": [
    "dataset[\"level_tour\"].value_counts()"
   ]
  },
  {
   "cell_type": "code",
   "execution_count": 304,
   "metadata": {},
   "outputs": [
    {
     "data": {
      "text/plain": [
       "Hard      15239\n",
       "Clay       8119\n",
       "Grass      3231\n",
       "Carpet      559\n",
       "Name: surface, dtype: int64"
      ]
     },
     "execution_count": 304,
     "metadata": {},
     "output_type": "execute_result"
    }
   ],
   "source": [
    "dataset[\"surface\"].value_counts()"
   ]
  },
  {
   "cell_type": "code",
   "execution_count": 305,
   "metadata": {},
   "outputs": [
    {
     "data": {
      "text/plain": [
       "Outdoor    22498\n",
       "Indoor      4650\n",
       "Name: door, dtype: int64"
      ]
     },
     "execution_count": 305,
     "metadata": {},
     "output_type": "execute_result"
    }
   ],
   "source": [
    "dataset[\"door\"].value_counts()"
   ]
  },
  {
   "cell_type": "code",
   "execution_count": 306,
   "metadata": {},
   "outputs": [
    {
     "data": {
      "text/plain": [
       "R32     9529\n",
       "R16     5100\n",
       "R64     4937\n",
       "R128    3039\n",
       "QF      2552\n",
       "SF      1293\n",
       "F        627\n",
       "RR        71\n",
       "Name: round_csv, dtype: int64"
      ]
     },
     "execution_count": 306,
     "metadata": {},
     "output_type": "execute_result"
    }
   ],
   "source": [
    "dataset[\"round_csv\"].value_counts()"
   ]
  },
  {
   "cell_type": "code",
   "execution_count": 307,
   "metadata": {},
   "outputs": [
    {
     "data": {
      "text/plain": [
       "2016    1906\n",
       "2009    1826\n",
       "2014    1798\n",
       "2010    1792\n",
       "2006    1785\n",
       "2011    1774\n",
       "2005    1764\n",
       "2013    1745\n",
       "2012    1727\n",
       "2004    1727\n",
       "2008    1719\n",
       "2007    1705\n",
       "2003    1658\n",
       "2001    1590\n",
       "2002    1572\n",
       "2015    1060\n",
       "Name: year_atp, dtype: int64"
      ]
     },
     "execution_count": 307,
     "metadata": {},
     "output_type": "execute_result"
    }
   ],
   "source": [
    "dataset[\"year_atp\"].value_counts()"
   ]
  },
  {
   "cell_type": "markdown",
   "metadata": {},
   "source": [
    "### add column that will be reverse if result is 1"
   ]
  },
  {
   "cell_type": "code",
   "execution_count": 308,
   "metadata": {},
   "outputs": [
    {
     "data": {
      "text/plain": [
       "32"
      ]
     },
     "execution_count": 308,
     "metadata": {},
     "output_type": "execute_result"
    }
   ],
   "source": [
    "stats_col = [\"serve_rating_1year\", \"aces_1year\", \"double_faults_1year\", \"first_serve_1year\", \"first_serve_point_won_1year\",\n",
    "       \"second_serve_point_won_1year\", \"bp_saved_1year\", \"service_game_played_1year\", \"return_rating_1year\",\n",
    "       \"first_serve_return_point_won_1year\", \"bp_converted_1year\", \"return_games_played_1year\", \"service_point_won_1year\",\n",
    "       \"return_point_won_1year\", \"total_point_won_1year\", \"serve_rating_20years\",\n",
    "       \"aces_20years\", \"double_faults_20years\", \"first_serve_20years\", \"first_serve_point_won_20years\", \"second_serve_point_won_20years\",\n",
    "       \"bp_saved_20years\", \"service_game_played_20years\", \"return_rating_20years\", \"first_serve_return_point_won_20years\",\n",
    "       \"bp_converted_20years\", \"return_games_played_20years\", \"service_point_won_20years\", \"return_point_won_20years\",\n",
    "       \"total_point_won_20years\", \"h2h\", \"minutes_loser_winner\"]\n",
    "len(stats_col)"
   ]
  },
  {
   "cell_type": "markdown",
   "metadata": {},
   "source": [
    "### add column result that will be the y axis on the dataset for the prediction"
   ]
  },
  {
   "cell_type": "code",
   "execution_count": 309,
   "metadata": {},
   "outputs": [
    {
     "data": {
      "text/plain": [
       "(27148, 91)"
      ]
     },
     "execution_count": 309,
     "metadata": {},
     "output_type": "execute_result"
    }
   ],
   "source": [
    "dataset.shape"
   ]
  },
  {
   "cell_type": "code",
   "execution_count": 310,
   "metadata": {},
   "outputs": [],
   "source": [
    "dataset.insert(dataset.shape[1], \"result\", np.random.randint(2, size=dataset.shape[0]))"
   ]
  },
  {
   "cell_type": "code",
   "execution_count": 311,
   "metadata": {},
   "outputs": [
    {
     "data": {
      "text/plain": [
       "1    13585\n",
       "0    13563\n",
       "Name: result, dtype: int64"
      ]
     },
     "execution_count": 311,
     "metadata": {},
     "output_type": "execute_result"
    }
   ],
   "source": [
    "dataset[\"result\"].value_counts()"
   ]
  },
  {
   "cell_type": "markdown",
   "metadata": {},
   "source": [
    "### transformer"
   ]
  },
  {
   "cell_type": "code",
   "execution_count": 312,
   "metadata": {},
   "outputs": [],
   "source": [
    "from sklearn.base import BaseEstimator, TransformerMixin\n",
    "\n",
    "# A class to select numerical or categorical columns \n",
    "# since Scikit-Learn doesn't handle DataFrames yet\n",
    "class DataFrameSelector(BaseEstimator, TransformerMixin):\n",
    "    def __init__(self, attribute_names):\n",
    "        self.attribute_names = attribute_names\n",
    "    def fit(self, X, y=None):\n",
    "        return self\n",
    "    def transform(self, X):\n",
    "        return X[self.attribute_names]"
   ]
  },
  {
   "cell_type": "code",
   "execution_count": 313,
   "metadata": {},
   "outputs": [],
   "source": [
    "class reverseStats(BaseEstimator, TransformerMixin):\n",
    "    def __init__(self, result_col):\n",
    "        self.result = result_col\n",
    "        \n",
    "    def fit(self, X, y=None):\n",
    "        return self\n",
    "    def transform(self, X, y=None):\n",
    "        ## while on each row : if result = 1 nothing else opponent each value in each collumn\n",
    "        def wh(a):\n",
    "            if (a[0] == 0):\n",
    "                for x in np.nditer(a, op_flags=['readwrite']):\n",
    "                    x[...] = -1 * x\n",
    "            return a\n",
    "        \n",
    "        tmp = np.c_[self.result, X]\n",
    "        np.apply_along_axis(wh, 0, tmp)\n",
    "        tmp = np.nan_to_num(tmp)\n",
    "        return tmp[:, np.arange(1, tmp.shape[1])]"
   ]
  },
  {
   "cell_type": "code",
   "execution_count": 314,
   "metadata": {},
   "outputs": [
    {
     "data": {
      "text/plain": [
       "(27148, 32)"
      ]
     },
     "execution_count": 314,
     "metadata": {},
     "output_type": "execute_result"
    }
   ],
   "source": [
    "from sklearn.pipeline import Pipeline\n",
    "\n",
    "stats_pipeline = Pipeline([\n",
    "        (\"select_stats\", DataFrameSelector(stats_col)),\n",
    "        (\"reverse\", reverseStats(dataset[\"result\"])),\n",
    "    ])\n",
    "\n",
    "stats_pipeline.fit_transform(dataset).shape"
   ]
  },
  {
   "cell_type": "code",
   "execution_count": 315,
   "metadata": {},
   "outputs": [
    {
     "data": {
      "text/plain": [
       "array([[ 18.80769231,   5.98878205,   0.16826923, ...,  -0.12496368,\n",
       "         -0.33333333,  -0.10485989],\n",
       "       [ 13.48558559,   1.10675676,   0.15585586, ...,   0.81045611,\n",
       "          0.        ,   0.        ],\n",
       "       [ 18.17277266,   2.15556836,   0.10894777, ...,   3.4796176 ,\n",
       "          1.        ,  -0.89499954],\n",
       "       ...,\n",
       "       [ 27.59803922,   9.15637255,   1.7877451 , ...,   2.10683761,\n",
       "          1.        ,  -0.81311543],\n",
       "       [-28.5       , -12.875     ,  -4.5       , ...,  -3.57627165,\n",
       "          0.        ,   0.92956288],\n",
       "       [  8.25      ,  10.        ,   1.25      , ...,  -3.75      ,\n",
       "          1.        ,   0.48373102]])"
      ]
     },
     "execution_count": 315,
     "metadata": {},
     "output_type": "execute_result"
    }
   ],
   "source": [
    "stats_pipeline.fit_transform(dataset)"
   ]
  },
  {
   "cell_type": "code",
   "execution_count": 316,
   "metadata": {},
   "outputs": [],
   "source": [
    "from sklearn.preprocessing import OneHotEncoder, LabelBinarizer"
   ]
  },
  {
   "cell_type": "code",
   "execution_count": 317,
   "metadata": {},
   "outputs": [
    {
     "data": {
      "text/plain": [
       "array([[0, 0, 0, ..., 0, 0, 0],\n",
       "       [0, 1, 0, ..., 0, 0, 0],\n",
       "       [0, 0, 0, ..., 0, 0, 0],\n",
       "       ...,\n",
       "       [0, 0, 0, ..., 1, 0, 0],\n",
       "       [0, 0, 0, ..., 0, 0, 0],\n",
       "       [0, 0, 0, ..., 0, 0, 0]])"
      ]
     },
     "execution_count": 317,
     "metadata": {},
     "output_type": "execute_result"
    }
   ],
   "source": [
    "round_pipeline = Pipeline([\n",
    "        (\"select_cat\", DataFrameSelector([\"round_csv\"])),\n",
    "        (\"cat_encoder\", CustomLabelBinarizer()),\n",
    "    ])\n",
    "\n",
    "round_pipeline.fit_transform(dataset)"
   ]
  },
  {
   "cell_type": "code",
   "execution_count": 318,
   "metadata": {},
   "outputs": [
    {
     "data": {
      "text/plain": [
       "(27148, 8)"
      ]
     },
     "execution_count": 318,
     "metadata": {},
     "output_type": "execute_result"
    }
   ],
   "source": [
    "round_pipeline.fit_transform(dataset).shape"
   ]
  },
  {
   "cell_type": "code",
   "execution_count": 319,
   "metadata": {},
   "outputs": [
    {
     "data": {
      "text/plain": [
       "array([[0, 0, 1, 0],\n",
       "       [0, 0, 1, 0],\n",
       "       [0, 0, 1, 0],\n",
       "       ...,\n",
       "       [0, 0, 0, 1],\n",
       "       [0, 0, 1, 0],\n",
       "       [0, 0, 1, 0]])"
      ]
     },
     "execution_count": 319,
     "metadata": {},
     "output_type": "execute_result"
    }
   ],
   "source": [
    "surface_pipeline = Pipeline([\n",
    "        (\"select_cat\", DataFrameSelector([\"surface\"])),\n",
    "        (\"cat_encoder\", CustomLabelBinarizer()),\n",
    "    ])\n",
    "\n",
    "surface_pipeline.fit_transform(dataset)"
   ]
  },
  {
   "cell_type": "code",
   "execution_count": 320,
   "metadata": {},
   "outputs": [
    {
     "data": {
      "text/plain": [
       "(27148, 4)"
      ]
     },
     "execution_count": 320,
     "metadata": {},
     "output_type": "execute_result"
    }
   ],
   "source": [
    "surface_pipeline.fit_transform(dataset).shape"
   ]
  },
  {
   "cell_type": "code",
   "execution_count": 321,
   "metadata": {},
   "outputs": [
    {
     "data": {
      "text/plain": [
       "array([[0., 0., 0., ..., 1., 0., 0.],\n",
       "       [0., 0., 0., ..., 0., 0., 0.],\n",
       "       [0., 0., 0., ..., 0., 0., 0.],\n",
       "       ...,\n",
       "       [0., 0., 0., ..., 0., 0., 0.],\n",
       "       [0., 0., 0., ..., 0., 0., 0.],\n",
       "       [0., 0., 0., ..., 0., 0., 0.]])"
      ]
     },
     "execution_count": 321,
     "metadata": {},
     "output_type": "execute_result"
    }
   ],
   "source": [
    "drawSize_pipeline = Pipeline([\n",
    "        (\"select_cat\", DataFrameSelector([\"draw_size\"])),\n",
    "        (\"cat_encoder\", OneHotEncoder(sparse=False)),\n",
    "    ])\n",
    "\n",
    "drawSize_pipeline.fit_transform(dataset)"
   ]
  },
  {
   "cell_type": "code",
   "execution_count": 322,
   "metadata": {},
   "outputs": [
    {
     "data": {
      "text/plain": [
       "(27148, 9)"
      ]
     },
     "execution_count": 322,
     "metadata": {},
     "output_type": "execute_result"
    }
   ],
   "source": [
    "drawSize_pipeline.fit_transform(dataset).shape"
   ]
  },
  {
   "cell_type": "code",
   "execution_count": 323,
   "metadata": {},
   "outputs": [
    {
     "data": {
      "text/plain": [
       "array([[1, 0, 0, 0],\n",
       "       [1, 0, 0, 0],\n",
       "       [1, 0, 0, 0],\n",
       "       ...,\n",
       "       [1, 0, 0, 0],\n",
       "       [1, 0, 0, 0],\n",
       "       [1, 0, 0, 0]])"
      ]
     },
     "execution_count": 323,
     "metadata": {},
     "output_type": "execute_result"
    }
   ],
   "source": [
    "levelTour_pipeline = Pipeline([\n",
    "        (\"select_cat\", DataFrameSelector([\"level_tour\"])),\n",
    "        (\"cat_encoder\", CustomLabelBinarizer()),\n",
    "    ])\n",
    "\n",
    "levelTour_pipeline.fit_transform(dataset)"
   ]
  },
  {
   "cell_type": "code",
   "execution_count": 324,
   "metadata": {},
   "outputs": [
    {
     "data": {
      "text/plain": [
       "(27148, 4)"
      ]
     },
     "execution_count": 324,
     "metadata": {},
     "output_type": "execute_result"
    }
   ],
   "source": [
    "levelTour_pipeline.fit_transform(dataset).shape"
   ]
  },
  {
   "cell_type": "code",
   "execution_count": 325,
   "metadata": {},
   "outputs": [
    {
     "data": {
      "text/plain": [
       "array([[65.  , 29.66, 76.  ],\n",
       "       [51.  , 29.45, 98.  ],\n",
       "       [64.  , 29.56, 90.  ],\n",
       "       ...,\n",
       "       [67.  , 30.09, 87.  ],\n",
       "       [83.  , 29.97, 84.  ],\n",
       "       [74.  , 29.81, 91.  ]])"
      ]
     },
     "execution_count": 325,
     "metadata": {},
     "output_type": "execute_result"
    }
   ],
   "source": [
    "from sklearn.preprocessing import Imputer\n",
    "\n",
    "weather_pipeline = Pipeline([\n",
    "        (\"select_cat\", DataFrameSelector([\"temp_weather\", \"press_weather\", \"humid_weather\"])),\n",
    "        ('imputer', Imputer(strategy=\"mean\")),\n",
    "    ])\n",
    "\n",
    "weather_pipeline.fit_transform(dataset)"
   ]
  },
  {
   "cell_type": "code",
   "execution_count": 326,
   "metadata": {},
   "outputs": [
    {
     "data": {
      "text/plain": [
       "(27148, 3)"
      ]
     },
     "execution_count": 326,
     "metadata": {},
     "output_type": "execute_result"
    }
   ],
   "source": [
    "weather_pipeline.fit_transform(dataset).shape"
   ]
  },
  {
   "cell_type": "code",
   "execution_count": 327,
   "metadata": {},
   "outputs": [
    {
     "data": {
      "text/plain": [
       "array([[2016.],\n",
       "       [2007.],\n",
       "       [2006.],\n",
       "       ...,\n",
       "       [2005.],\n",
       "       [2016.],\n",
       "       [2010.]])"
      ]
     },
     "execution_count": 327,
     "metadata": {},
     "output_type": "execute_result"
    }
   ],
   "source": [
    "from sklearn.preprocessing import Imputer\n",
    "\n",
    "year_pipeline = Pipeline([\n",
    "        (\"select_cat\", DataFrameSelector([\"year_atp\"])),\n",
    "        ('imputer', Imputer(strategy=\"most_frequent\")),\n",
    "    ])\n",
    "\n",
    "year_pipeline.fit_transform(dataset)"
   ]
  },
  {
   "cell_type": "code",
   "execution_count": 328,
   "metadata": {},
   "outputs": [
    {
     "data": {
      "text/plain": [
       "(27148, 1)"
      ]
     },
     "execution_count": 328,
     "metadata": {},
     "output_type": "execute_result"
    }
   ],
   "source": [
    "\n",
    "year_pipeline.fit_transform(dataset).shape"
   ]
  },
  {
   "cell_type": "code",
   "execution_count": 329,
   "metadata": {},
   "outputs": [
    {
     "data": {
      "text/plain": [
       "array([[1],\n",
       "       [1],\n",
       "       [1],\n",
       "       ...,\n",
       "       [1],\n",
       "       [1],\n",
       "       [1]])"
      ]
     },
     "execution_count": 329,
     "metadata": {},
     "output_type": "execute_result"
    }
   ],
   "source": [
    "door_pipeline = Pipeline([\n",
    "        (\"select_cat\", DataFrameSelector([\"door\"])),\n",
    "        (\"cat_encoder\", CustomLabelBinarizer()),\n",
    "    ])\n",
    "\n",
    "door_pipeline.fit_transform(dataset)"
   ]
  },
  {
   "cell_type": "code",
   "execution_count": 330,
   "metadata": {},
   "outputs": [
    {
     "data": {
      "text/plain": [
       "(27148, 1)"
      ]
     },
     "execution_count": 330,
     "metadata": {},
     "output_type": "execute_result"
    }
   ],
   "source": [
    "door_pipeline.fit_transform(dataset).shape"
   ]
  },
  {
   "cell_type": "code",
   "execution_count": 331,
   "metadata": {},
   "outputs": [],
   "source": [
    "class fillna(BaseEstimator, TransformerMixin):\n",
    "    def __init__(self, val):\n",
    "        self.val = val\n",
    "        \n",
    "    def fit(self, X, y=None):\n",
    "        return self\n",
    "    def transform(self, X, y=None):        \n",
    "        return X.fillna(self.val)"
   ]
  },
  {
   "cell_type": "code",
   "execution_count": 332,
   "metadata": {},
   "outputs": [
    {
     "data": {
      "text/plain": [
       "(27148, 2)"
      ]
     },
     "execution_count": 332,
     "metadata": {},
     "output_type": "execute_result"
    }
   ],
   "source": [
    "uncertainty_pipeline = Pipeline([\n",
    "        (\"select_cat\", DataFrameSelector([\"uncertainty_1year\", \"uncertainty_20years\"])),\n",
    "        (\"cat_encoder\", fillna(10)),\n",
    "    ])\n",
    "\n",
    "uncertainty_pipeline.fit_transform(dataset).shape"
   ]
  },
  {
   "cell_type": "code",
   "execution_count": 333,
   "metadata": {},
   "outputs": [
    {
     "data": {
      "text/plain": [
       "(27148, 2)"
      ]
     },
     "execution_count": 333,
     "metadata": {},
     "output_type": "execute_result"
    }
   ],
   "source": [
    "count_pipeline = Pipeline([\n",
    "        (\"select_cat\", DataFrameSelector([\"count_match_1year\", \"count_match_20years\"])),\n",
    "        (\"cat_encoder\", fillna(0)),\n",
    "    ])\n",
    "\n",
    "count_pipeline.fit_transform(dataset).shape"
   ]
  },
  {
   "cell_type": "code",
   "execution_count": 334,
   "metadata": {},
   "outputs": [],
   "source": [
    "from sklearn.pipeline import FeatureUnion\n",
    "preprocess_pipeline = FeatureUnion(transformer_list=[\n",
    "        (\"stats_pipeline\", stats_pipeline),\n",
    "        (\"round_pipeline\", round_pipeline),\n",
    "        (\"surface_pipeline\", surface_pipeline),\n",
    "        (\"drawSize_pipeline\", drawSize_pipeline),\n",
    "        (\"levelTour_pipeline\", levelTour_pipeline),\n",
    "        (\"weather_pipeline\", levelTour_pipeline),\n",
    "        (\"year_pipeline\", levelTour_pipeline),\n",
    "        (\"door_pipeline\", levelTour_pipeline),\n",
    "        (\"uncertainty_pipeline\", levelTour_pipeline),\n",
    "        (\"count_pipeline\", count_pipeline),\n",
    "    ])"
   ]
  },
  {
   "cell_type": "code",
   "execution_count": 335,
   "metadata": {},
   "outputs": [],
   "source": [
    "X_train = preprocess_pipeline.fit_transform(dataset)"
   ]
  },
  {
   "cell_type": "code",
   "execution_count": 336,
   "metadata": {},
   "outputs": [
    {
     "data": {
      "text/plain": [
       "(27148, 75)"
      ]
     },
     "execution_count": 336,
     "metadata": {},
     "output_type": "execute_result"
    }
   ],
   "source": [
    "X_train.shape"
   ]
  },
  {
   "cell_type": "code",
   "execution_count": 337,
   "metadata": {},
   "outputs": [
    {
     "data": {
      "text/html": [
       "<div>\n",
       "<style scoped>\n",
       "    .dataframe tbody tr th:only-of-type {\n",
       "        vertical-align: middle;\n",
       "    }\n",
       "\n",
       "    .dataframe tbody tr th {\n",
       "        vertical-align: top;\n",
       "    }\n",
       "\n",
       "    .dataframe thead th {\n",
       "        text-align: right;\n",
       "    }\n",
       "</style>\n",
       "<table border=\"1\" class=\"dataframe\">\n",
       "  <thead>\n",
       "    <tr style=\"text-align: right;\">\n",
       "      <th></th>\n",
       "      <th>0</th>\n",
       "      <th>1</th>\n",
       "      <th>2</th>\n",
       "      <th>3</th>\n",
       "      <th>4</th>\n",
       "      <th>5</th>\n",
       "      <th>6</th>\n",
       "      <th>7</th>\n",
       "      <th>8</th>\n",
       "      <th>9</th>\n",
       "      <th>...</th>\n",
       "      <th>65</th>\n",
       "      <th>66</th>\n",
       "      <th>67</th>\n",
       "      <th>68</th>\n",
       "      <th>69</th>\n",
       "      <th>70</th>\n",
       "      <th>71</th>\n",
       "      <th>72</th>\n",
       "      <th>73</th>\n",
       "      <th>74</th>\n",
       "    </tr>\n",
       "  </thead>\n",
       "  <tbody>\n",
       "    <tr>\n",
       "      <th>0</th>\n",
       "      <td>18.807692</td>\n",
       "      <td>5.988782</td>\n",
       "      <td>0.168269</td>\n",
       "      <td>3.903846</td>\n",
       "      <td>5.613782</td>\n",
       "      <td>-2.088141</td>\n",
       "      <td>-6.232372</td>\n",
       "      <td>1.054487</td>\n",
       "      <td>-2.774038</td>\n",
       "      <td>-2.048077</td>\n",
       "      <td>...</td>\n",
       "      <td>1.0</td>\n",
       "      <td>0.0</td>\n",
       "      <td>0.0</td>\n",
       "      <td>0.0</td>\n",
       "      <td>1.0</td>\n",
       "      <td>0.0</td>\n",
       "      <td>0.0</td>\n",
       "      <td>0.0</td>\n",
       "      <td>84.0</td>\n",
       "      <td>418.0</td>\n",
       "    </tr>\n",
       "    <tr>\n",
       "      <th>1</th>\n",
       "      <td>13.485586</td>\n",
       "      <td>1.106757</td>\n",
       "      <td>0.155856</td>\n",
       "      <td>-4.874775</td>\n",
       "      <td>3.931081</td>\n",
       "      <td>7.170721</td>\n",
       "      <td>-3.401351</td>\n",
       "      <td>-0.253153</td>\n",
       "      <td>9.433784</td>\n",
       "      <td>-0.440541</td>\n",
       "      <td>...</td>\n",
       "      <td>1.0</td>\n",
       "      <td>0.0</td>\n",
       "      <td>0.0</td>\n",
       "      <td>0.0</td>\n",
       "      <td>1.0</td>\n",
       "      <td>0.0</td>\n",
       "      <td>0.0</td>\n",
       "      <td>0.0</td>\n",
       "      <td>100.0</td>\n",
       "      <td>246.0</td>\n",
       "    </tr>\n",
       "    <tr>\n",
       "      <th>2</th>\n",
       "      <td>18.172773</td>\n",
       "      <td>2.155568</td>\n",
       "      <td>0.108948</td>\n",
       "      <td>3.634754</td>\n",
       "      <td>2.039631</td>\n",
       "      <td>2.214247</td>\n",
       "      <td>-1.923157</td>\n",
       "      <td>1.147619</td>\n",
       "      <td>22.646582</td>\n",
       "      <td>3.820084</td>\n",
       "      <td>...</td>\n",
       "      <td>1.0</td>\n",
       "      <td>0.0</td>\n",
       "      <td>0.0</td>\n",
       "      <td>0.0</td>\n",
       "      <td>1.0</td>\n",
       "      <td>0.0</td>\n",
       "      <td>0.0</td>\n",
       "      <td>0.0</td>\n",
       "      <td>135.0</td>\n",
       "      <td>142.0</td>\n",
       "    </tr>\n",
       "    <tr>\n",
       "      <th>3</th>\n",
       "      <td>56.979655</td>\n",
       "      <td>17.434417</td>\n",
       "      <td>0.344498</td>\n",
       "      <td>4.008408</td>\n",
       "      <td>16.203786</td>\n",
       "      <td>-4.877392</td>\n",
       "      <td>1.001920</td>\n",
       "      <td>1.164725</td>\n",
       "      <td>-34.962645</td>\n",
       "      <td>-5.448670</td>\n",
       "      <td>...</td>\n",
       "      <td>1.0</td>\n",
       "      <td>0.0</td>\n",
       "      <td>0.0</td>\n",
       "      <td>0.0</td>\n",
       "      <td>1.0</td>\n",
       "      <td>0.0</td>\n",
       "      <td>0.0</td>\n",
       "      <td>0.0</td>\n",
       "      <td>333.0</td>\n",
       "      <td>374.0</td>\n",
       "    </tr>\n",
       "    <tr>\n",
       "      <th>4</th>\n",
       "      <td>-20.147797</td>\n",
       "      <td>-7.007377</td>\n",
       "      <td>-0.848064</td>\n",
       "      <td>-6.478994</td>\n",
       "      <td>-3.946907</td>\n",
       "      <td>2.962617</td>\n",
       "      <td>1.337873</td>\n",
       "      <td>-0.619960</td>\n",
       "      <td>30.591522</td>\n",
       "      <td>5.916800</td>\n",
       "      <td>...</td>\n",
       "      <td>1.0</td>\n",
       "      <td>0.0</td>\n",
       "      <td>0.0</td>\n",
       "      <td>0.0</td>\n",
       "      <td>1.0</td>\n",
       "      <td>0.0</td>\n",
       "      <td>0.0</td>\n",
       "      <td>0.0</td>\n",
       "      <td>300.0</td>\n",
       "      <td>399.0</td>\n",
       "    </tr>\n",
       "  </tbody>\n",
       "</table>\n",
       "<p>5 rows × 75 columns</p>\n",
       "</div>"
      ],
      "text/plain": [
       "          0          1         2         3          4         5         6   \\\n",
       "0  18.807692   5.988782  0.168269  3.903846   5.613782 -2.088141 -6.232372   \n",
       "1  13.485586   1.106757  0.155856 -4.874775   3.931081  7.170721 -3.401351   \n",
       "2  18.172773   2.155568  0.108948  3.634754   2.039631  2.214247 -1.923157   \n",
       "3  56.979655  17.434417  0.344498  4.008408  16.203786 -4.877392  1.001920   \n",
       "4 -20.147797  -7.007377 -0.848064 -6.478994  -3.946907  2.962617  1.337873   \n",
       "\n",
       "         7          8         9   ...     65   66   67   68   69   70   71  \\\n",
       "0  1.054487  -2.774038 -2.048077  ...    1.0  0.0  0.0  0.0  1.0  0.0  0.0   \n",
       "1 -0.253153   9.433784 -0.440541  ...    1.0  0.0  0.0  0.0  1.0  0.0  0.0   \n",
       "2  1.147619  22.646582  3.820084  ...    1.0  0.0  0.0  0.0  1.0  0.0  0.0   \n",
       "3  1.164725 -34.962645 -5.448670  ...    1.0  0.0  0.0  0.0  1.0  0.0  0.0   \n",
       "4 -0.619960  30.591522  5.916800  ...    1.0  0.0  0.0  0.0  1.0  0.0  0.0   \n",
       "\n",
       "    72     73     74  \n",
       "0  0.0   84.0  418.0  \n",
       "1  0.0  100.0  246.0  \n",
       "2  0.0  135.0  142.0  \n",
       "3  0.0  333.0  374.0  \n",
       "4  0.0  300.0  399.0  \n",
       "\n",
       "[5 rows x 75 columns]"
      ]
     },
     "execution_count": 337,
     "metadata": {},
     "output_type": "execute_result"
    }
   ],
   "source": [
    "pd.DataFrame(X_train).head()"
   ]
  },
  {
   "cell_type": "code",
   "execution_count": 338,
   "metadata": {},
   "outputs": [
    {
     "data": {
      "text/plain": [
       "False    75\n",
       "dtype: int64"
      ]
     },
     "execution_count": 338,
     "metadata": {},
     "output_type": "execute_result"
    }
   ],
   "source": [
    "pd.DataFrame(X_train).isnull().any().value_counts()"
   ]
  },
  {
   "cell_type": "code",
   "execution_count": 339,
   "metadata": {},
   "outputs": [],
   "source": [
    "y_train = dataset[\"result\"]"
   ]
  },
  {
   "cell_type": "code",
   "execution_count": 340,
   "metadata": {},
   "outputs": [
    {
     "name": "stdout",
     "output_type": "stream",
     "text": [
      "Fitting 5 folds for each of 6 candidates, totalling 30 fits\n",
      "[CV] n_neighbors=3, weights=uniform ..................................\n",
      "[CV] n_neighbors=3, weights=uniform ..................................\n",
      "[CV] n_neighbors=3, weights=uniform ..................................\n",
      "[CV] n_neighbors=3, weights=uniform ..................................\n",
      "[CV]  n_neighbors=3, weights=uniform, score=0.4990791896869245, total=   2.3s\n",
      "[CV]  n_neighbors=3, weights=uniform, score=0.4988950276243094, total=   2.4s\n",
      "[CV] n_neighbors=3, weights=uniform ..................................\n",
      "[CV] n_neighbors=3, weights=distance .................................\n",
      "[CV]  n_neighbors=3, weights=uniform, score=0.49511880641002026, total=   2.2s\n",
      "[CV] n_neighbors=3, weights=distance .................................\n",
      "[CV]  n_neighbors=3, weights=uniform, score=0.5077348066298343, total=   2.3s\n",
      "[CV] n_neighbors=3, weights=distance .................................\n",
      "[CV] ....... n_neighbors=3, weights=distance, score=0.5, total=   2.5s\n",
      "[CV] n_neighbors=3, weights=distance .................................\n",
      "[CV]  n_neighbors=3, weights=distance, score=0.494475138121547, total=   2.4s\n",
      "[CV] n_neighbors=3, weights=distance .................................\n",
      "[CV]  n_neighbors=3, weights=uniform, score=0.4934610425492724, total=   2.5s\n",
      "[CV] n_neighbors=4, weights=uniform ..................................\n",
      "[CV]  n_neighbors=3, weights=distance, score=0.507182320441989, total=   2.8s\n",
      "[CV] n_neighbors=4, weights=uniform ..................................\n"
     ]
    },
    {
     "ename": "KeyboardInterrupt",
     "evalue": "",
     "output_type": "error",
     "traceback": [
      "\u001b[0;31m-------------------------------------------------------------------------\u001b[0m",
      "\u001b[0;31mKeyboardInterrupt\u001b[0m                       Traceback (most recent call last)",
      "\u001b[0;32m<ipython-input-340-491c10a3a50d>\u001b[0m in \u001b[0;36m<module>\u001b[0;34m()\u001b[0m\n\u001b[1;32m      6\u001b[0m \u001b[0mknn_clf\u001b[0m \u001b[0;34m=\u001b[0m \u001b[0mKNeighborsClassifier\u001b[0m\u001b[0;34m(\u001b[0m\u001b[0;34m)\u001b[0m\u001b[0;34m\u001b[0m\u001b[0m\n\u001b[1;32m      7\u001b[0m \u001b[0mgrid_search\u001b[0m \u001b[0;34m=\u001b[0m \u001b[0mGridSearchCV\u001b[0m\u001b[0;34m(\u001b[0m\u001b[0mknn_clf\u001b[0m\u001b[0;34m,\u001b[0m \u001b[0mparam_grid\u001b[0m\u001b[0;34m,\u001b[0m \u001b[0mcv\u001b[0m\u001b[0;34m=\u001b[0m\u001b[0;36m5\u001b[0m\u001b[0;34m,\u001b[0m \u001b[0mverbose\u001b[0m\u001b[0;34m=\u001b[0m\u001b[0;36m3\u001b[0m\u001b[0;34m,\u001b[0m \u001b[0mn_jobs\u001b[0m\u001b[0;34m=\u001b[0m\u001b[0;34m-\u001b[0m\u001b[0;36m1\u001b[0m\u001b[0;34m)\u001b[0m\u001b[0;34m\u001b[0m\u001b[0m\n\u001b[0;32m----> 8\u001b[0;31m \u001b[0mgrid_search\u001b[0m\u001b[0;34m.\u001b[0m\u001b[0mfit\u001b[0m\u001b[0;34m(\u001b[0m\u001b[0mX_train\u001b[0m\u001b[0;34m,\u001b[0m \u001b[0my_train\u001b[0m\u001b[0;34m)\u001b[0m\u001b[0;34m\u001b[0m\u001b[0m\n\u001b[0m",
      "\u001b[0;32m~/anaconda3/lib/python3.6/site-packages/sklearn/model_selection/_search.py\u001b[0m in \u001b[0;36mfit\u001b[0;34m(self, X, y, groups, **fit_params)\u001b[0m\n\u001b[1;32m    637\u001b[0m                                   error_score=self.error_score)\n\u001b[1;32m    638\u001b[0m           for parameters, (train, test) in product(candidate_params,\n\u001b[0;32m--> 639\u001b[0;31m                                                    cv.split(X, y, groups)))\n\u001b[0m\u001b[1;32m    640\u001b[0m \u001b[0;34m\u001b[0m\u001b[0m\n\u001b[1;32m    641\u001b[0m         \u001b[0;31m# if one choose to see train score, \"out\" will contain train score info\u001b[0m\u001b[0;34m\u001b[0m\u001b[0;34m\u001b[0m\u001b[0m\n",
      "\u001b[0;32m~/anaconda3/lib/python3.6/site-packages/sklearn/externals/joblib/parallel.py\u001b[0m in \u001b[0;36m__call__\u001b[0;34m(self, iterable)\u001b[0m\n\u001b[1;32m    787\u001b[0m                 \u001b[0;31m# consumption.\u001b[0m\u001b[0;34m\u001b[0m\u001b[0;34m\u001b[0m\u001b[0m\n\u001b[1;32m    788\u001b[0m                 \u001b[0mself\u001b[0m\u001b[0;34m.\u001b[0m\u001b[0m_iterating\u001b[0m \u001b[0;34m=\u001b[0m \u001b[0;32mFalse\u001b[0m\u001b[0;34m\u001b[0m\u001b[0m\n\u001b[0;32m--> 789\u001b[0;31m             \u001b[0mself\u001b[0m\u001b[0;34m.\u001b[0m\u001b[0mretrieve\u001b[0m\u001b[0;34m(\u001b[0m\u001b[0;34m)\u001b[0m\u001b[0;34m\u001b[0m\u001b[0m\n\u001b[0m\u001b[1;32m    790\u001b[0m             \u001b[0;31m# Make sure that we get a last message telling us we are done\u001b[0m\u001b[0;34m\u001b[0m\u001b[0;34m\u001b[0m\u001b[0m\n\u001b[1;32m    791\u001b[0m             \u001b[0melapsed_time\u001b[0m \u001b[0;34m=\u001b[0m \u001b[0mtime\u001b[0m\u001b[0;34m.\u001b[0m\u001b[0mtime\u001b[0m\u001b[0;34m(\u001b[0m\u001b[0;34m)\u001b[0m \u001b[0;34m-\u001b[0m \u001b[0mself\u001b[0m\u001b[0;34m.\u001b[0m\u001b[0m_start_time\u001b[0m\u001b[0;34m\u001b[0m\u001b[0m\n",
      "\u001b[0;32m~/anaconda3/lib/python3.6/site-packages/sklearn/externals/joblib/parallel.py\u001b[0m in \u001b[0;36mretrieve\u001b[0;34m(self)\u001b[0m\n\u001b[1;32m    697\u001b[0m             \u001b[0;32mtry\u001b[0m\u001b[0;34m:\u001b[0m\u001b[0;34m\u001b[0m\u001b[0m\n\u001b[1;32m    698\u001b[0m                 \u001b[0;32mif\u001b[0m \u001b[0mgetattr\u001b[0m\u001b[0;34m(\u001b[0m\u001b[0mself\u001b[0m\u001b[0;34m.\u001b[0m\u001b[0m_backend\u001b[0m\u001b[0;34m,\u001b[0m \u001b[0;34m'supports_timeout'\u001b[0m\u001b[0;34m,\u001b[0m \u001b[0;32mFalse\u001b[0m\u001b[0;34m)\u001b[0m\u001b[0;34m:\u001b[0m\u001b[0;34m\u001b[0m\u001b[0m\n\u001b[0;32m--> 699\u001b[0;31m                     \u001b[0mself\u001b[0m\u001b[0;34m.\u001b[0m\u001b[0m_output\u001b[0m\u001b[0;34m.\u001b[0m\u001b[0mextend\u001b[0m\u001b[0;34m(\u001b[0m\u001b[0mjob\u001b[0m\u001b[0;34m.\u001b[0m\u001b[0mget\u001b[0m\u001b[0;34m(\u001b[0m\u001b[0mtimeout\u001b[0m\u001b[0;34m=\u001b[0m\u001b[0mself\u001b[0m\u001b[0;34m.\u001b[0m\u001b[0mtimeout\u001b[0m\u001b[0;34m)\u001b[0m\u001b[0;34m)\u001b[0m\u001b[0;34m\u001b[0m\u001b[0m\n\u001b[0m\u001b[1;32m    700\u001b[0m                 \u001b[0;32melse\u001b[0m\u001b[0;34m:\u001b[0m\u001b[0;34m\u001b[0m\u001b[0m\n\u001b[1;32m    701\u001b[0m                     \u001b[0mself\u001b[0m\u001b[0;34m.\u001b[0m\u001b[0m_output\u001b[0m\u001b[0;34m.\u001b[0m\u001b[0mextend\u001b[0m\u001b[0;34m(\u001b[0m\u001b[0mjob\u001b[0m\u001b[0;34m.\u001b[0m\u001b[0mget\u001b[0m\u001b[0;34m(\u001b[0m\u001b[0;34m)\u001b[0m\u001b[0;34m)\u001b[0m\u001b[0;34m\u001b[0m\u001b[0m\n",
      "\u001b[0;32m~/anaconda3/lib/python3.6/multiprocessing/pool.py\u001b[0m in \u001b[0;36mget\u001b[0;34m(self, timeout)\u001b[0m\n\u001b[1;32m    636\u001b[0m \u001b[0;34m\u001b[0m\u001b[0m\n\u001b[1;32m    637\u001b[0m     \u001b[0;32mdef\u001b[0m \u001b[0mget\u001b[0m\u001b[0;34m(\u001b[0m\u001b[0mself\u001b[0m\u001b[0;34m,\u001b[0m \u001b[0mtimeout\u001b[0m\u001b[0;34m=\u001b[0m\u001b[0;32mNone\u001b[0m\u001b[0;34m)\u001b[0m\u001b[0;34m:\u001b[0m\u001b[0;34m\u001b[0m\u001b[0m\n\u001b[0;32m--> 638\u001b[0;31m         \u001b[0mself\u001b[0m\u001b[0;34m.\u001b[0m\u001b[0mwait\u001b[0m\u001b[0;34m(\u001b[0m\u001b[0mtimeout\u001b[0m\u001b[0;34m)\u001b[0m\u001b[0;34m\u001b[0m\u001b[0m\n\u001b[0m\u001b[1;32m    639\u001b[0m         \u001b[0;32mif\u001b[0m \u001b[0;32mnot\u001b[0m \u001b[0mself\u001b[0m\u001b[0;34m.\u001b[0m\u001b[0mready\u001b[0m\u001b[0;34m(\u001b[0m\u001b[0;34m)\u001b[0m\u001b[0;34m:\u001b[0m\u001b[0;34m\u001b[0m\u001b[0m\n\u001b[1;32m    640\u001b[0m             \u001b[0;32mraise\u001b[0m \u001b[0mTimeoutError\u001b[0m\u001b[0;34m\u001b[0m\u001b[0m\n",
      "\u001b[0;32m~/anaconda3/lib/python3.6/multiprocessing/pool.py\u001b[0m in \u001b[0;36mwait\u001b[0;34m(self, timeout)\u001b[0m\n\u001b[1;32m    633\u001b[0m \u001b[0;34m\u001b[0m\u001b[0m\n\u001b[1;32m    634\u001b[0m     \u001b[0;32mdef\u001b[0m \u001b[0mwait\u001b[0m\u001b[0;34m(\u001b[0m\u001b[0mself\u001b[0m\u001b[0;34m,\u001b[0m \u001b[0mtimeout\u001b[0m\u001b[0;34m=\u001b[0m\u001b[0;32mNone\u001b[0m\u001b[0;34m)\u001b[0m\u001b[0;34m:\u001b[0m\u001b[0;34m\u001b[0m\u001b[0m\n\u001b[0;32m--> 635\u001b[0;31m         \u001b[0mself\u001b[0m\u001b[0;34m.\u001b[0m\u001b[0m_event\u001b[0m\u001b[0;34m.\u001b[0m\u001b[0mwait\u001b[0m\u001b[0;34m(\u001b[0m\u001b[0mtimeout\u001b[0m\u001b[0;34m)\u001b[0m\u001b[0;34m\u001b[0m\u001b[0m\n\u001b[0m\u001b[1;32m    636\u001b[0m \u001b[0;34m\u001b[0m\u001b[0m\n\u001b[1;32m    637\u001b[0m     \u001b[0;32mdef\u001b[0m \u001b[0mget\u001b[0m\u001b[0;34m(\u001b[0m\u001b[0mself\u001b[0m\u001b[0;34m,\u001b[0m \u001b[0mtimeout\u001b[0m\u001b[0;34m=\u001b[0m\u001b[0;32mNone\u001b[0m\u001b[0;34m)\u001b[0m\u001b[0;34m:\u001b[0m\u001b[0;34m\u001b[0m\u001b[0m\n",
      "\u001b[0;32m~/anaconda3/lib/python3.6/threading.py\u001b[0m in \u001b[0;36mwait\u001b[0;34m(self, timeout)\u001b[0m\n\u001b[1;32m    549\u001b[0m             \u001b[0msignaled\u001b[0m \u001b[0;34m=\u001b[0m \u001b[0mself\u001b[0m\u001b[0;34m.\u001b[0m\u001b[0m_flag\u001b[0m\u001b[0;34m\u001b[0m\u001b[0m\n\u001b[1;32m    550\u001b[0m             \u001b[0;32mif\u001b[0m \u001b[0;32mnot\u001b[0m \u001b[0msignaled\u001b[0m\u001b[0;34m:\u001b[0m\u001b[0;34m\u001b[0m\u001b[0m\n\u001b[0;32m--> 551\u001b[0;31m                 \u001b[0msignaled\u001b[0m \u001b[0;34m=\u001b[0m \u001b[0mself\u001b[0m\u001b[0;34m.\u001b[0m\u001b[0m_cond\u001b[0m\u001b[0;34m.\u001b[0m\u001b[0mwait\u001b[0m\u001b[0;34m(\u001b[0m\u001b[0mtimeout\u001b[0m\u001b[0;34m)\u001b[0m\u001b[0;34m\u001b[0m\u001b[0m\n\u001b[0m\u001b[1;32m    552\u001b[0m             \u001b[0;32mreturn\u001b[0m \u001b[0msignaled\u001b[0m\u001b[0;34m\u001b[0m\u001b[0m\n\u001b[1;32m    553\u001b[0m \u001b[0;34m\u001b[0m\u001b[0m\n",
      "\u001b[0;32m~/anaconda3/lib/python3.6/threading.py\u001b[0m in \u001b[0;36mwait\u001b[0;34m(self, timeout)\u001b[0m\n\u001b[1;32m    293\u001b[0m         \u001b[0;32mtry\u001b[0m\u001b[0;34m:\u001b[0m    \u001b[0;31m# restore state no matter what (e.g., KeyboardInterrupt)\u001b[0m\u001b[0;34m\u001b[0m\u001b[0m\n\u001b[1;32m    294\u001b[0m             \u001b[0;32mif\u001b[0m \u001b[0mtimeout\u001b[0m \u001b[0;32mis\u001b[0m \u001b[0;32mNone\u001b[0m\u001b[0;34m:\u001b[0m\u001b[0;34m\u001b[0m\u001b[0m\n\u001b[0;32m--> 295\u001b[0;31m                 \u001b[0mwaiter\u001b[0m\u001b[0;34m.\u001b[0m\u001b[0macquire\u001b[0m\u001b[0;34m(\u001b[0m\u001b[0;34m)\u001b[0m\u001b[0;34m\u001b[0m\u001b[0m\n\u001b[0m\u001b[1;32m    296\u001b[0m                 \u001b[0mgotit\u001b[0m \u001b[0;34m=\u001b[0m \u001b[0;32mTrue\u001b[0m\u001b[0;34m\u001b[0m\u001b[0m\n\u001b[1;32m    297\u001b[0m             \u001b[0;32melse\u001b[0m\u001b[0;34m:\u001b[0m\u001b[0;34m\u001b[0m\u001b[0m\n",
      "\u001b[0;31mKeyboardInterrupt\u001b[0m: "
     ]
    }
   ],
   "source": [
    "from sklearn.neighbors import KNeighborsClassifier\n",
    "from sklearn.model_selection import GridSearchCV\n",
    "\n",
    "param_grid = [{'weights': [\"uniform\", \"distance\"], 'n_neighbors': [3, 4, 5]}]\n",
    "\n",
    "knn_clf = KNeighborsClassifier()\n",
    "grid_search = GridSearchCV(knn_clf, param_grid, cv=5, verbose=3, n_jobs=-1)\n",
    "grid_search.fit(X_train, y_train)"
   ]
  },
  {
   "cell_type": "code",
   "execution_count": null,
   "metadata": {},
   "outputs": [],
   "source": []
  }
 ],
 "metadata": {
  "kernelspec": {
   "display_name": "Python 3",
   "language": "python",
   "name": "python3"
  },
  "language_info": {
   "codemirror_mode": {
    "name": "ipython",
    "version": 3
   },
   "file_extension": ".py",
   "mimetype": "text/x-python",
   "name": "python",
   "nbconvert_exporter": "python",
   "pygments_lexer": "ipython3",
   "version": "3.6.4"
  }
 },
 "nbformat": 4,
 "nbformat_minor": 2
}
